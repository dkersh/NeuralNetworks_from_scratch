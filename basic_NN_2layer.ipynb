{
 "metadata": {
  "language_info": {
   "codemirror_mode": {
    "name": "ipython",
    "version": 3
   },
   "file_extension": ".py",
   "mimetype": "text/x-python",
   "name": "python",
   "nbconvert_exporter": "python",
   "pygments_lexer": "ipython3",
   "version": "3.7.7-final"
  },
  "orig_nbformat": 2,
  "kernelspec": {
   "name": "python_defaultSpec_1597651927761",
   "display_name": "Python 3.7.7 64-bit ('analysis': conda)"
  }
 },
 "nbformat": 4,
 "nbformat_minor": 2,
 "cells": [
  {
   "cell_type": "code",
   "execution_count": 5,
   "metadata": {
    "tags": []
   },
   "outputs": [
    {
     "output_type": "stream",
     "name": "stdout",
     "text": "Epoch: 199000 - 0.000160"
    }
   ],
   "source": [
    "import numpy as np\n",
    "# Define Sigmoid Function\n",
    "def sigmoid(x):\n",
    "    return 1/(1 + np.exp(-x))\n",
    "\n",
    "# Define Derivative of Sigmoid Function\n",
    "def sigmoid_der(x):\n",
    "    return sigmoid(x)*(1-sigmoid(x))\n",
    "\n",
    "X = [[0, 0], [0, 1], [1, 0], [1, 1]]\n",
    "Y = [0, 1, 1, 1]\n",
    "\n",
    "lr = 0.05\n",
    "w0 = [[0.3, 0.4], [0.1, 0.2]]\n",
    "b0 = [1, 1]\n",
    "w1 = [0.3, 0.4]\n",
    "b1 = 1\n",
    "\n",
    "x = [0, 0]\n",
    "y = 0\n",
    "\n",
    "for i in range(200000):\n",
    "    del_w0 = 0\n",
    "    del_b0 = 0\n",
    "    del_w1 = 0\n",
    "    del_b1 = 0\n",
    "    C = 0\n",
    "    for x, y in zip(X, Y):\n",
    "        z0 = np.dot(x, w0) + b0\n",
    "        a0 = sigmoid(z0)\n",
    "\n",
    "        z1 = np.dot(a0, w1) + b1\n",
    "        a1 = sigmoid(z1)\n",
    "\n",
    "        C += 0.5*(y - a1)**2\n",
    "\n",
    "        delta = (a1 - y) * sigmoid_der(z1)\n",
    "        del_w1 += np.dot(delta, np.transpose(a0))\n",
    "        del_b1 += delta\n",
    "\n",
    "        delta_0 = np.dot(np.transpose(w1), delta) * sigmoid_der(z0)\n",
    "\n",
    "        del_w0 += np.outer(delta_0, np.transpose(x))\n",
    "        del_b0 += delta_0\n",
    "    \n",
    "    if np.mod(i, 1000) == 0:\n",
    "        print('Epoch: %d - %f\\r' % (i, C/4), end='')\n",
    "\n",
    "    w0 -= (lr/4) * del_w0\n",
    "    b0 -= (lr/4) * del_b0\n",
    "    w1 -= (lr/4) * del_w1\n",
    "    b1 -= (lr/4) * del_b1"
   ]
  },
  {
   "cell_type": "code",
   "execution_count": 2,
   "metadata": {
    "tags": []
   },
   "outputs": [
    {
     "output_type": "stream",
     "name": "stdout",
     "text": "0.027551707165990078\n"
    }
   ],
   "source": [
    "x = [0, 0]\n",
    "\n",
    "z0 = np.dot(x, w0) + b0\n",
    "a0 = sigmoid(z0)\n",
    "\n",
    "z1 = np.dot(a0, w1) + b1\n",
    "a1 = sigmoid(z1)\n",
    "\n",
    "print(a1)"
   ]
  },
  {
   "cell_type": "code",
   "execution_count": null,
   "metadata": {},
   "outputs": [],
   "source": []
  }
 ]
}