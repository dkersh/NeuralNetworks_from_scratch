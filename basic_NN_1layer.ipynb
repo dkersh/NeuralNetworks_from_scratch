{
 "metadata": {
  "language_info": {
   "codemirror_mode": {
    "name": "ipython",
    "version": 3
   },
   "file_extension": ".py",
   "mimetype": "text/x-python",
   "name": "python",
   "nbconvert_exporter": "python",
   "pygments_lexer": "ipython3",
   "version": "3.7.7-final"
  },
  "orig_nbformat": 2,
  "kernelspec": {
   "name": "python_defaultSpec_1602431398905",
   "display_name": "Python 3.7.7 64-bit ('analysis': conda)"
  }
 },
 "nbformat": 4,
 "nbformat_minor": 2,
 "cells": [
  {
   "cell_type": "code",
   "execution_count": 1,
   "metadata": {
    "tags": []
   },
   "outputs": [],
   "source": [
    "import numpy as np\n",
    "\n",
    "# Define Sigmoid Function\n",
    "def sigmoid(x):\n",
    "    return 1/(1 + np.exp(-x))\n",
    "\n",
    "# Define Derivative of Sigmoid Function\n",
    "def sigmoid_der(x):\n",
    "    return sigmoid(x)*(1-sigmoid(x))\n",
    "\n",
    "X = [[0, 0], [0, 1], [1, 0], [1, 1]]\n",
    "Y = [0, 1, 1, 1]\n",
    "\n",
    "lr = 0.05\n",
    "w0 = [0.3, 0.4]\n",
    "b0 = 1\n",
    "\n",
    "x = [0, 0]\n",
    "y = 0\n",
    "\n",
    "for i in range(100000):\n",
    "    del_w0 = 0\n",
    "    del_b0 = 0\n",
    "    for x, y in zip(X, Y):\n",
    "        z0 = np.dot(x, w0) + b0\n",
    "        a0 = sigmoid(z0)\n",
    "\n",
    "\n",
    "        delta = (a0 - y) * sigmoid_der(z0)\n",
    "        del_w0 += np.dot(delta, np.transpose(x))\n",
    "        del_b0 += delta\n",
    "   \n",
    "\n",
    "    w0 -= (lr/4) * del_w0\n",
    "    b0 -= (lr/4) * del_b0"
   ]
  },
  {
   "cell_type": "code",
   "execution_count": 4,
   "metadata": {
    "tags": []
   },
   "outputs": [
    {
     "output_type": "stream",
     "name": "stdout",
     "text": "0.9999491290808464\n"
    }
   ],
   "source": [
    "x = [1, 1]\n",
    "\n",
    "z0 = np.dot(x, w0) + b0\n",
    "a0 = sigmoid(z0)\n",
    "\n",
    "print(a0)"
   ]
  }
 ]
}