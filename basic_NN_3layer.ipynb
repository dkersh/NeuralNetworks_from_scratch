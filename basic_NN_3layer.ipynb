{
 "metadata": {
  "language_info": {
   "codemirror_mode": {
    "name": "ipython",
    "version": 3
   },
   "file_extension": ".py",
   "mimetype": "text/x-python",
   "name": "python",
   "nbconvert_exporter": "python",
   "pygments_lexer": "ipython3",
   "version": "3.7.7-final"
  },
  "orig_nbformat": 2,
  "kernelspec": {
   "name": "python_defaultSpec_1597664669960",
   "display_name": "Python 3.7.7 64-bit ('analysis': conda)"
  }
 },
 "nbformat": 4,
 "nbformat_minor": 2,
 "cells": [
  {
   "cell_type": "code",
   "execution_count": 59,
   "metadata": {
    "tags": []
   },
   "outputs": [
    {
     "output_type": "stream",
     "name": "stdout",
     "text": "Epoch: 12000 - 0.000353Epoch: 13000 - 0.000281"
    },
    {
     "output_type": "error",
     "ename": "KeyboardInterrupt",
     "evalue": "",
     "traceback": [
      "\u001b[1;31m---------------------------------------------------------------------------\u001b[0m",
      "\u001b[1;31mKeyboardInterrupt\u001b[0m                         Traceback (most recent call last)",
      "\u001b[1;32m<ipython-input-59-1afdf6c3d687>\u001b[0m in \u001b[0;36m<module>\u001b[1;34m\u001b[0m\n\u001b[0;32m     37\u001b[0m         \u001b[0ma1\u001b[0m \u001b[1;33m=\u001b[0m \u001b[0msigmoid\u001b[0m\u001b[1;33m(\u001b[0m\u001b[0mz1\u001b[0m\u001b[1;33m)\u001b[0m\u001b[1;33m\u001b[0m\u001b[1;33m\u001b[0m\u001b[0m\n\u001b[0;32m     38\u001b[0m \u001b[1;33m\u001b[0m\u001b[0m\n\u001b[1;32m---> 39\u001b[1;33m         \u001b[0mz2\u001b[0m \u001b[1;33m=\u001b[0m \u001b[0mnp\u001b[0m\u001b[1;33m.\u001b[0m\u001b[0mdot\u001b[0m\u001b[1;33m(\u001b[0m\u001b[0ma1\u001b[0m\u001b[1;33m,\u001b[0m \u001b[0mw2\u001b[0m\u001b[1;33m)\u001b[0m \u001b[1;33m+\u001b[0m \u001b[0mb2\u001b[0m\u001b[1;33m\u001b[0m\u001b[1;33m\u001b[0m\u001b[0m\n\u001b[0m\u001b[0;32m     40\u001b[0m         \u001b[0ma2\u001b[0m \u001b[1;33m=\u001b[0m \u001b[0msigmoid\u001b[0m\u001b[1;33m(\u001b[0m\u001b[0mz2\u001b[0m\u001b[1;33m)\u001b[0m\u001b[1;33m\u001b[0m\u001b[1;33m\u001b[0m\u001b[0m\n\u001b[0;32m     41\u001b[0m \u001b[1;33m\u001b[0m\u001b[0m\n",
      "\u001b[1;32m<__array_function__ internals>\u001b[0m in \u001b[0;36mdot\u001b[1;34m(*args, **kwargs)\u001b[0m\n",
      "\u001b[1;31mKeyboardInterrupt\u001b[0m: "
     ]
    }
   ],
   "source": [
    "import numpy as np\n",
    "# Define Sigmoid Function\n",
    "def sigmoid(x):\n",
    "    return 1/(1 + np.exp(-x))\n",
    "\n",
    "# Define Derivative of Sigmoid Function\n",
    "def sigmoid_der(x):\n",
    "    return sigmoid(x)*(1-sigmoid(x))\n",
    "\n",
    "X = [[0, 0], [0, 1], [1, 0], [1, 1]]\n",
    "Y = [0, 1, 1, 1]\n",
    "\n",
    "lr = 0.5\n",
    "w0 = np.array([[0.3, 0.4], [0.1, 0.2], [0.1, 0.2]]).T\n",
    "b0 = [1, 1, 1]\n",
    "w1 = np.array([[0.5, 0.1, 0.2], [0.5, 0.1, 0.5], [0.25, 0.25, 0.1], [0.25, 0.25, 0.1]]).T\n",
    "b1 = [1, 1, 1, 1]\n",
    "w2 = [0.3, 0.4, 0.5, 0.3]\n",
    "b2 = 1\n",
    "\n",
    "x = [0, 0]\n",
    "y = 0\n",
    "\n",
    "for i in range(200000):\n",
    "    del_w0 = 0\n",
    "    del_b0 = 0\n",
    "    del_w1 = 0\n",
    "    del_b1 = 0\n",
    "    del_w2 = 0\n",
    "    del_b2 = 0\n",
    "    C = 0\n",
    "    for x, y in zip(X, Y):\n",
    "        z0 = np.dot(x, w0) + b0\n",
    "        a0 = sigmoid(z0)\n",
    "\n",
    "        z1 = np.dot(a0, w1) + b1\n",
    "        a1 = sigmoid(z1)\n",
    "\n",
    "        z2 = np.dot(a1, w2) + b2\n",
    "        a2 = sigmoid(z2)\n",
    "\n",
    "        C += 0.5*(y - a2)**2\n",
    "\n",
    "        delta = (a2 - y) * sigmoid_der(z2)\n",
    "        del_w2 += np.dot(delta, np.transpose(a1))\n",
    "        del_b2 += delta\n",
    "\n",
    "        delta_1 = np.dot(np.transpose(w2), delta) * sigmoid_der(z1)\n",
    "\n",
    "        print(np.shape(delta_1)\n",
    "        print(np.shape(a0))\n",
    "\n",
    "        del_w1 += np.outer(delta_1, np.transpose(a0))\n",
    "        del_b1 += delta_1\n",
    "\n",
    "        delta_0 = np.dot(w1, delta_1) * sigmoid_der(z0)\n",
    "\n",
    "        del_w0 += np.outer(delta_0, np.transpose(x))\n",
    "        del_b0 += delta_0\n",
    "    \n",
    "    if np.mod(i, 1000) == 0:\n",
    "        print('Epoch: %d - %f\\r' % (i, C/4), end='')\n",
    "\n",
    "    w0 -= (lr/4) * np.transpose(del_w0)\n",
    "    b0 -= (lr/4) * del_b0\n",
    "    w1 -= (lr/4) * np.transpose(del_w1)\n",
    "    b1 -= (lr/4) * del_b1\n",
    "    w2 -= (lr/4) * del_w2\n",
    "    b2 -= (lr/4) * del_b2"
   ]
  },
  {
   "cell_type": "code",
   "execution_count": 61,
   "metadata": {
    "tags": []
   },
   "outputs": [
    {
     "output_type": "stream",
     "name": "stdout",
     "text": "(3,)\n[[ 3.97371835 -0.277124    1.05331731]\n [ 3.99440555 -0.15915012  1.12011585]]\n[[ 2.95520796  4.63692813  3.41043873 -0.28105818]\n [-0.86428772 -1.16533835 -0.75156268  0.51289565]\n [ 0.21088619  0.73380511  0.25458186  0.0822635 ]]\n[ 2.73832238  5.19033374  3.35557492 -1.80856932]\n(4,)\n[array([[ 3.97371835, -0.277124  ,  1.05331731],\n       [ 3.99440555, -0.15915012,  1.12011585]]), array([[ 2.95520796,  4.63692813,  3.41043873, -0.28105818],\n       [-0.86428772, -1.16533835, -0.75156268,  0.51289565],\n       [ 0.21088619,  0.73380511,  0.25458186,  0.0822635 ]]), array([ 2.73832238,  5.19033374,  3.35557492, -1.80856932])]\n[[ 3.97371835 -0.277124    1.05331731]\n [ 3.99440555 -0.15915012  1.12011585]]\n(2, 3)\n[[ 2.95520796  4.63692813  3.41043873 -0.28105818]\n [-0.86428772 -1.16533835 -0.75156268  0.51289565]\n [ 0.21088619  0.73380511  0.25458186  0.0822635 ]]\n(3, 4)\n[ 2.73832238  5.19033374  3.35557492 -1.80856932]\n(4,)\n"
    }
   ],
   "source": [
    "all_w = []\n",
    "all_w += [w0]\n",
    "all_w += [w1]\n",
    "all_w += [w2]\n",
    "\n",
    "print(np.shape(all_w))\n",
    "print(all_w[0])\n",
    "print(all_w[1])\n",
    "print(all_w[2])\n",
    "print(np.shape(all_w[2]))\n",
    "print([w0,w1,w2])\n",
    "\n",
    "for w in all_w:\n",
    "    print(w)\n",
    "    print(np.shape(w))"
   ]
  },
  {
   "cell_type": "code",
   "execution_count": 44,
   "metadata": {
    "tags": []
   },
   "outputs": [
    {
     "output_type": "stream",
     "name": "stdout",
     "text": "0.005165241652459693\n"
    }
   ],
   "source": [
    "x = [0, 0]\n",
    "\n",
    "z0 = np.dot(x, w0) + b0\n",
    "a0 = sigmoid(z0)\n",
    "\n",
    "z1 = np.dot(a0, w1) + b1\n",
    "a1 = sigmoid(z1)\n",
    "\n",
    "z2 = np.dot(a1, w2) + b2\n",
    "a2 = sigmoid(z2)\n",
    "\n",
    "print(a2)"
   ]
  },
  {
   "cell_type": "code",
   "execution_count": null,
   "metadata": {},
   "outputs": [],
   "source": []
  }
 ]
}