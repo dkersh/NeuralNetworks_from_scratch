{
 "cells": [
  {
   "cell_type": "code",
   "execution_count": 1,
   "metadata": {
    "tags": []
   },
   "outputs": [
    {
     "name": "stdout",
     "output_type": "stream",
     "text": [
      "0.9345699871001929\n",
      "[0.87638915 0.89460666 0.08504421]\n",
      "[[0.67046751 0.4173048  0.55868983]\n",
      " [0.14038694 0.19810149 0.80074457]\n",
      " [0.96826158 0.31342418 0.69232262]]\n",
      "[[0.18626021 0.34556073 0.39676747]\n",
      " [0.53881673 0.41919451 0.6852195 ]\n",
      " [0.20445225 0.87811744 0.02738759]]\n",
      "0.9346276133514986\n",
      "[0.87638915 0.89460666 0.08504421]\n",
      "[[0.67046751 0.4173048  0.55868983]\n",
      " [0.14038694 0.19810149 0.80074457]\n",
      " [0.96826158 0.31342418 0.69232262]]\n",
      "[[0.18626021 0.34556073 0.39676747]\n",
      " [0.53881673 0.41919451 0.6852195 ]\n",
      " [0.20445225 0.87811744 0.02738759]]\n",
      "0.9347103761741546\n",
      "[0.87638915 0.89460666 0.08504421]\n",
      "[[0.67046751 0.4173048  0.55868983]\n",
      " [0.14038694 0.19810149 0.80074457]\n",
      " [0.96826158 0.31342418 0.69232262]]\n",
      "[[0.18626021 0.34556073 0.39676747]\n",
      " [0.53881673 0.41919451 0.6852195 ]\n",
      " [0.20445225 0.87811744 0.02738759]]\n",
      "0.9347499335580547\n",
      "[0.87638915 0.89460666 0.08504421]\n",
      "[[0.67046751 0.4173048  0.55868983]\n",
      " [0.14038694 0.19810149 0.80074457]\n",
      " [0.96826158 0.31342418 0.69232262]]\n",
      "[[0.18626021 0.34556073 0.39676747]\n",
      " [0.53881673 0.41919451 0.6852195 ]\n",
      " [0.20445225 0.87811744 0.02738759]]\n",
      "Epoch: 0 - 0.000532\r"
     ]
    },
    {
     "ename": "TypeError",
     "evalue": "can't multiply sequence by non-int of type 'float'",
     "output_type": "error",
     "traceback": [
      "\u001b[0;31m---------------------------------------------------------------------------\u001b[0m",
      "\u001b[0;31mTypeError\u001b[0m                                 Traceback (most recent call last)",
      "\u001b[1;32m/Users/davidkersh/Documents/Other_Work/Coding/NeuralNetworks_from_scratch/basic_NN_Nlayer_2.ipynb Cell 1\u001b[0m line \u001b[0;36m6\n\u001b[1;32m     <a href='vscode-notebook-cell:/Users/davidkersh/Documents/Other_Work/Coding/NeuralNetworks_from_scratch/basic_NN_Nlayer_2.ipynb#W0sZmlsZQ%3D%3D?line=63'>64</a>\u001b[0m     \u001b[39mprint\u001b[39m(\u001b[39m'\u001b[39m\u001b[39mEpoch: \u001b[39m\u001b[39m%d\u001b[39;00m\u001b[39m - \u001b[39m\u001b[39m%f\u001b[39;00m\u001b[39m\\r\u001b[39;00m\u001b[39m'\u001b[39m \u001b[39m%\u001b[39m (i, C\u001b[39m/\u001b[39m\u001b[39m4\u001b[39m), end\u001b[39m=\u001b[39m\u001b[39m'\u001b[39m\u001b[39m'\u001b[39m)\n\u001b[1;32m     <a href='vscode-notebook-cell:/Users/davidkersh/Documents/Other_Work/Coding/NeuralNetworks_from_scratch/basic_NN_Nlayer_2.ipynb#W0sZmlsZQ%3D%3D?line=65'>66</a>\u001b[0m \u001b[39m# Update Weights and Biases\u001b[39;00m\n\u001b[0;32m---> <a href='vscode-notebook-cell:/Users/davidkersh/Documents/Other_Work/Coding/NeuralNetworks_from_scratch/basic_NN_Nlayer_2.ipynb#W0sZmlsZQ%3D%3D?line=66'>67</a>\u001b[0m weights \u001b[39m=\u001b[39m weights \u001b[39m-\u001b[39m lr\u001b[39m/\u001b[39;49m\u001b[39m4\u001b[39;49m \u001b[39m*\u001b[39;49m all_delta_w\n\u001b[1;32m     <a href='vscode-notebook-cell:/Users/davidkersh/Documents/Other_Work/Coding/NeuralNetworks_from_scratch/basic_NN_Nlayer_2.ipynb#W0sZmlsZQ%3D%3D?line=67'>68</a>\u001b[0m biases \u001b[39m=\u001b[39m biases \u001b[39m-\u001b[39m lr\u001b[39m/\u001b[39m\u001b[39m4\u001b[39m \u001b[39m*\u001b[39m all_delta_b\n\u001b[1;32m     <a href='vscode-notebook-cell:/Users/davidkersh/Documents/Other_Work/Coding/NeuralNetworks_from_scratch/basic_NN_Nlayer_2.ipynb#W0sZmlsZQ%3D%3D?line=69'>70</a>\u001b[0m all_delta_w \u001b[39m*\u001b[39m\u001b[39m=\u001b[39m \u001b[39m0\u001b[39m\n",
      "\u001b[0;31mTypeError\u001b[0m: can't multiply sequence by non-int of type 'float'"
     ]
    }
   ],
   "source": [
    "import numpy as np\n",
    "# Define Sigmoid Function\n",
    "def sigmoid(x):\n",
    "    return 1/(1 + np.exp(-x))\n",
    "\n",
    "# Define Derivative of Sigmoid Function\n",
    "def sigmoid_der(x):\n",
    "    return sigmoid(x)*(1-sigmoid(x))\n",
    "\n",
    "np.random.seed(1)\n",
    "\n",
    "X = [[0, 0], [0, 1], [1, 0], [1, 1]]\n",
    "Y = [0, 1, 1, 1]\n",
    "\n",
    "lr = 0.5\n",
    "\n",
    "size = [2, 3, 3, 3, 1]\n",
    "\n",
    "weights = []\n",
    "for i in range(len(size)-1):\n",
    "    weights += [np.squeeze(np.random.uniform(low=0, high=1, size=(size[i], size[i+1])))]\n",
    "\n",
    "biases = []\n",
    "for i in range(1, len(size)):\n",
    "    biases += [np.squeeze(np.ones((1, size[i])))]\n",
    "\n",
    "# Store Deltas\n",
    "all_delta_w = [w*0 for w in weights]\n",
    "all_delta_b = [b*0 for b in biases]\n",
    "\n",
    "for i in range(100000):\n",
    "    # Forward Pass\n",
    "    for x, y in zip(X, Y):\n",
    "        C = 0\n",
    "        z = 0\n",
    "        a = [x]\n",
    "        z_inp = np.array(x)\n",
    "        z = []\n",
    "        for w, b in zip(weights, biases):\n",
    "            z += [np.dot(z_inp, w) + b]\n",
    "            a += [sigmoid(z[-1])]\n",
    "            z_inp = a[-1]\n",
    "\n",
    "        # Update the Cost function\n",
    "        C += 0.5*(y - a[-1])**2\n",
    "\n",
    "        #backprop\n",
    "        # layer l-1 (final layer)\n",
    "        delta = (a[-1] - y) * sigmoid_der(z[-1])\n",
    "        print(a[-1])\n",
    "        all_delta_w[-1] += np.dot(delta, np.transpose(a[-2]))\n",
    "        all_delta_b[-1] += delta\n",
    "\n",
    "        delta_prev = delta\n",
    "        for l in range(2,len(size)):\n",
    "            delta = np.dot(weights[-l+1], delta_prev) * sigmoid_der(z[-l])\n",
    "            print(weights[-l+1])\n",
    "            all_delta_w[-l] += np.squeeze(np.transpose(np.outer(delta, np.transpose(a[-l-1]))))\n",
    "            all_delta_b[-l] += delta\n",
    "\n",
    "            delta_prev = delta\n",
    "\n",
    "    if np.mod(i, 1000) == 0:\n",
    "        print('Epoch: %d - %f\\r' % (i, C/4), end='')\n",
    "\n",
    "    # Update Weights and Biases\n",
    "    weights = weights - lr/4 * all_delta_w\n",
    "    biases = biases - lr/4 * all_delta_b\n",
    "\n",
    "    all_delta_w *= 0\n",
    "    all_delta_b *= 0"
   ]
  },
  {
   "cell_type": "code",
   "execution_count": null,
   "metadata": {},
   "outputs": [],
   "source": [
    "np.dot([0.87638915, 0.89460666, 0.08504421], 0.9345699871001929)"
   ]
  },
  {
   "cell_type": "code",
   "execution_count": null,
   "metadata": {
    "tags": []
   },
   "outputs": [],
   "source": [
    "x = [1, 0]\n",
    "\n",
    "a = [x]\n",
    "z_inp = np.array(x)\n",
    "z = []\n",
    "for w, b in zip(weights, biases):\n",
    "    z += [np.dot(z_inp, w) + b]\n",
    "    a += [sigmoid(z[-1])]\n",
    "    z_inp = a[-1]\n",
    "\n",
    "print(a[-1])"
   ]
  },
  {
   "cell_type": "markdown",
   "metadata": {},
   "source": [
    "# Trying out on the MNIST dataset"
   ]
  },
  {
   "cell_type": "code",
   "execution_count": null,
   "metadata": {
    "tags": []
   },
   "outputs": [],
   "source": [
    "from tensorflow.keras.datasets import mnist\n",
    "(X_train, Y_train), (X_test, Y_test) = mnist.load_data()"
   ]
  },
  {
   "cell_type": "code",
   "execution_count": null,
   "metadata": {
    "tags": []
   },
   "outputs": [],
   "source": [
    "print(np.shape(X_train))\n",
    "\n",
    "X_train_R = np.reshape(X_train, (60000, 28*28))\n",
    "X_test_R = np.reshape(X_test, (len(X_test), 28*28))\n",
    "\n",
    "print(np.amax(X_train_R[0]))\n",
    "print(np.shape(X_train_R))\n",
    "print(np.shape(Y_train))\n",
    "\n",
    "n_classes = 10\n",
    "\n",
    "targets = np.array(Y_train).reshape(-1)\n",
    "Y_train_E = np.eye(n_classes)[targets]"
   ]
  },
  {
   "cell_type": "code",
   "execution_count": null,
   "metadata": {
    "tags": []
   },
   "outputs": [],
   "source": [
    "lr = 0.5\n",
    "\n",
    "X = X_train_R/255\n",
    "Y = Y_train_E\n",
    "\n",
    "size = [784, 100, 50, 10]\n",
    "\n",
    "weights = []\n",
    "for i in range(len(size)-1):\n",
    "    weights += [np.squeeze(np.random.uniform(low=0, high=0.01, size=(size[i], size[i+1])))]\n",
    "\n",
    "biases = []\n",
    "for i in range(1, len(size)):\n",
    "    biases += [np.squeeze(np.ones((1, size[i])))]\n",
    "\n",
    "print(weights[0].shape)\n",
    "\n",
    "# Store Deltas\n",
    "all_delta_w = np.array(weights)*0\n",
    "all_delta_b = np.array(biases)*0\n",
    "\n",
    "for i in range(50000):\n",
    "    # Forward Pass\n",
    "    idx = np.random.choice(np.arange(len(X)), size=20, replace=False)\n",
    "    X_subset = X[idx]\n",
    "    Y_subset = Y[idx]\n",
    "    for x, y in zip(X_subset, Y_subset):\n",
    "        C = 0\n",
    "        z = 0\n",
    "        a = [x]\n",
    "        z_inp = np.array(x)\n",
    "        z = []\n",
    "        for w, b in zip(weights, biases):\n",
    "            z += [np.dot(z_inp, w) + b]\n",
    "            a += [sigmoid(z[-1])]\n",
    "            z_inp = a[-1]\n",
    "\n",
    "        # Update the Cost function\n",
    "        C += 0.5*np.sum((y - a[-1])**2)\n",
    "\n",
    "        #backprop\n",
    "        # layer l-1 (final layer)\n",
    "        delta = (a[-1] - y) * sigmoid_der(z[-1])\n",
    "        all_delta_w[-1] += np.squeeze(np.transpose(np.outer(delta, np.transpose(a[-2]))))\n",
    "        all_delta_b[-1] += delta\n",
    "\n",
    "        delta_prev = delta\n",
    "        for l in range(2,len(size)):\n",
    "            delta = np.dot(weights[-l+1], delta_prev) * sigmoid_der(z[-l])\n",
    "            all_delta_w[-l] += np.squeeze(np.transpose(np.outer(delta, np.transpose(a[-l-1]))))\n",
    "            all_delta_b[-l] += delta\n",
    "\n",
    "            delta_prev = delta\n",
    "\n",
    "    if np.mod(i, 1000) == 0:\n",
    "        print('Epoch: %d - %f\\r' % (i, C/20), end='')\n",
    "\n",
    "    # Update Weights and Biases\n",
    "    weights = weights - lr/4 * all_delta_w\n",
    "    biases = biases - lr/4 * all_delta_b\n",
    "\n",
    "    all_delta_w *= 0\n",
    "    all_delta_b *= 0"
   ]
  },
  {
   "cell_type": "code",
   "execution_count": null,
   "metadata": {
    "tags": []
   },
   "outputs": [],
   "source": [
    "import matplotlib.pyplot as plt\n",
    "\n",
    "def get_prediction(x):\n",
    "    a = [x]\n",
    "    z_inp = np.array(x)\n",
    "    z = []\n",
    "    for w, b in zip(weights, biases):\n",
    "        z += [np.dot(z_inp, w) + b]\n",
    "        a += [sigmoid(z[-1])]\n",
    "        z_inp = a[-1]\n",
    "\n",
    "    y = np.argmax(a[-1])\n",
    "\n",
    "    return y\n",
    "\n",
    "i = 200\n",
    "\n",
    "num_row = 5\n",
    "num_col = 5\n",
    "fig, axes = plt.subplots(num_row, num_col, figsize=(1.5*num_col,2*num_row))\n",
    "for i in range(25):\n",
    "    idx = np.random.choice(len(X_test), size=1)\n",
    "    img = np.squeeze(X_test[idx])\n",
    "    img_R = np.reshape(img, 28*28)\n",
    "    ax = axes[i//num_col, i%num_col]\n",
    "    ax.axis('off')\n",
    "    ax.imshow(img)\n",
    "    ax.set_title('Label: %d' % (get_prediction(img_R)))\n",
    "plt.tight_layout()\n",
    "plt.show()\n",
    "\n"
   ]
  },
  {
   "cell_type": "code",
   "execution_count": null,
   "metadata": {
    "tags": []
   },
   "outputs": [],
   "source": [
    "y_pred = []\n",
    "\n",
    "for x in X_test_R:\n",
    "    x = x/255\n",
    "    a = [x]\n",
    "    z_inp = np.array(x)\n",
    "    z = []\n",
    "    for w, b in zip(weights, biases):\n",
    "        z += [np.dot(z_inp, w) + b]\n",
    "        a += [sigmoid(z[-1])]\n",
    "        z_inp = a[-1]\n",
    "\n",
    "    y_pred += [np.argmax(a[-1])]"
   ]
  },
  {
   "cell_type": "code",
   "execution_count": null,
   "metadata": {
    "tags": []
   },
   "outputs": [],
   "source": [
    "from sklearn.metrics import accuracy_score\n",
    "\n",
    "score = accuracy_score(Y_test, np.array(y_pred))\n",
    "\n",
    "print(score)\n",
    "\n"
   ]
  },
  {
   "cell_type": "code",
   "execution_count": null,
   "metadata": {
    "tags": []
   },
   "outputs": [],
   "source": [
    "accuracy_score(Y_test, np.array(y_pred))"
   ]
  },
  {
   "cell_type": "code",
   "execution_count": null,
   "metadata": {
    "tags": []
   },
   "outputs": [],
   "source": [
    "print(np.shape(weights[0]))\n",
    "\n",
    "plt.figure(figsize=(10, 10))\n",
    "plt.imshow(np.abs(np.reshape(np.mean(weights[0], axis=1), (28, 28))))\n",
    "plt.show()"
   ]
  },
  {
   "cell_type": "code",
   "execution_count": null,
   "metadata": {},
   "outputs": [],
   "source": []
  }
 ],
 "metadata": {
  "kernelspec": {
   "display_name": "tf_env",
   "language": "python",
   "name": "python3"
  },
  "language_info": {
   "codemirror_mode": {
    "name": "ipython",
    "version": 3
   },
   "file_extension": ".py",
   "mimetype": "text/x-python",
   "name": "python",
   "nbconvert_exporter": "python",
   "pygments_lexer": "ipython3",
   "version": "3.9.13"
  },
  "orig_nbformat": 2,
  "vscode": {
   "interpreter": {
    "hash": "b8db1d6ed1741de37ab319fb31b8d7afbcf6896fb6211c67640d3123cc56a9bc"
   }
  }
 },
 "nbformat": 4,
 "nbformat_minor": 2
}
