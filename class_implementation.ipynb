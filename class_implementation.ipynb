{
 "cells": [
  {
   "cell_type": "markdown",
   "metadata": {},
   "source": [
    "# Neural Network from Scratch in Python"
   ]
  },
  {
   "cell_type": "code",
   "execution_count": 1,
   "metadata": {},
   "outputs": [],
   "source": [
    "from dataclasses import dataclass\n",
    "from abc import ABC, abstractmethod\n",
    "import numpy as np\n",
    "from typing import List\n",
    "import matplotlib.pyplot as plt"
   ]
  },
  {
   "cell_type": "markdown",
   "metadata": {},
   "source": [
    "## 1 Layer, 1 Neuron Neural Network, OR logic gate\n",
    "What goes on inside a perceptron?\n",
    "\n",
    "$z = \\mathbf{w} \\cdot \\mathbf{x} + b = w_0x_0 + w_1x_1 + b$\n",
    "\n",
    "We introduce non-linearity to the system using the sigmoid function i.e.\n",
    "$a = \\sigma(z) = \\frac{1}{1+e^{-z}}$\n",
    "\n",
    "### Backpropagation\n",
    "The problem regards how we actually update the weights of each neuron in the system. A common method utilises what is called the _gradient descent_ algorithm.\n",
    "This involves updating the weights of each neuron, every epoch we train the model. A hyperparameter $\\eta$ is introduced which is commonly called the _learning rate_ (LR) or occassionally _mixing parameter_.\n",
    "\n",
    "$\n",
    "\\begin{equation}\n",
    "\\mathbf{w}' = \\mathbf{w} - \\eta \\frac{\\partial E}{\\partial \\mathbf{w}}\n",
    "\\end{equation}\n",
    "$\n",
    "\n",
    "We use the chain rule to solve $\\frac{\\partial E}{\\partial \\mathbf{w}}$ i.e.\n",
    "$\\begin{equation}\n",
    "\\frac{\\partial E}{\\partial \\mathbf{w}} = \\frac{\\partial E}{\\partial a} \\frac{\\partial a}{\\partial z} \\frac{\\partial z}{\\partial \\mathbf{w}}\n",
    "\\end{equation}$\n",
    "\n",
    "Solving each term (assuming the Error Function is MSE here and activation function is sigmoid in this case):\n",
    "$\\begin{equation}\n",
    "\\frac{\\partial E}{\\partial a} = \\frac{\\partial}{\\partial a}\\frac{1}{2} (y - a)^2 = a - y\n",
    "\\end{equation}$\n",
    "\n",
    "$\\begin{equation}\n",
    "\\frac{\\partial a}{\\partial z} = \\frac{\\partial}{\\partial z}\\sigma(z) = \\sigma(z)(1 - \\sigma(z))\n",
    "\\end{equation}$\n",
    "\n",
    "$\\begin{equation}\n",
    "\\frac{\\partial z}{\\partial \\mathbf{w}} = \\frac{\\partial}{\\partial \\mathbf{w}} \\mathbf{w} \\cdot \\mathbf{x} + b = \\mathbf{x}\n",
    "\\end{equation}$\n",
    "\n",
    "which finally gives us\n",
    "\n",
    "$\\begin{equation}\n",
    "\\frac{\\partial E}{\\partial \\mathbf{w}} = (a - y) \\times \\sigma(z)(1 - \\sigma(z)) \\times \\mathbf{x}\n",
    "\\end{equation}$\n",
    "\n",
    "and finally what about the bias?\n",
    "\n",
    "$\\begin{equation}\n",
    "\\frac{\\partial E}{\\partial b} = \\frac{\\partial E}{\\partial a} \\frac{\\partial a}{\\partial z} \\frac{\\partial z}{\\partial b}\n",
    "\\end{equation}$\n",
    "\n",
    "We know most of these terms except the last\n",
    "\n",
    "$\\begin{equation}\n",
    "\\frac{\\partial z}{\\partial b} = \\frac{\\partial}{\\partial b} \\mathbf{w} \\cdot \\mathbf{x} + b = 1\n",
    "\\end{equation}$\n",
    "\n",
    "and so, finally\n",
    "\n",
    "$\\begin{equation}\n",
    "\\frac{\\partial E}{\\partial b} = (a - y) \\times \\sigma(z)(1 - \\sigma(z))\n",
    "\\end{equation}$"
   ]
  },
  {
   "cell_type": "code",
   "execution_count": 2,
   "metadata": {},
   "outputs": [],
   "source": [
    "class ActivationFunction(ABC):\n",
    "    @abstractmethod\n",
    "    def function(self):\n",
    "        pass\n",
    "\n",
    "    @abstractmethod\n",
    "    def derivative(self):\n",
    "        pass\n",
    "\n",
    "class ErrorFunction(ABC):\n",
    "    @abstractmethod\n",
    "    def function(self):\n",
    "        pass\n",
    "\n",
    "    def derivative(self):\n",
    "        pass"
   ]
  },
  {
   "cell_type": "code",
   "execution_count": 296,
   "metadata": {},
   "outputs": [],
   "source": [
    "\n",
    "@dataclass\n",
    "class Sigmoid(ActivationFunction):\n",
    "    name: str = 'sigmoid'\n",
    "\n",
    "    def function(self, x):\n",
    "        return 1/(1 + np.exp(-x))\n",
    "    \n",
    "    def derivative(self, x):\n",
    "        return self.function(x)*(1-self.function(x))\n",
    "    \n",
    "@dataclass \n",
    "class MeanSquaredError(ErrorFunction):\n",
    "    name: str = 'MSE'\n",
    "\n",
    "    def function(self, a, y):\n",
    "        return 0.5*(y - a)**2\n",
    "    \n",
    "    def derivative(self, a, y):\n",
    "        return (a - y)\n",
    "\n",
    "@dataclass\n",
    "class Neuron():\n",
    "    input_shape: int\n",
    "    activation_function: ActivationFunction\n",
    "    weights: np.ndarray[np.float64] = None\n",
    "    bias: float = np.random.rand(1)\n",
    "    error: float = 0\n",
    "    delta: np.ndarray = np.array([])\n",
    "    delta_weights: np.ndarray = np.array([])\n",
    "    weights_gradient = 0\n",
    "    bias_gradient = 0\n",
    "    z: float = None\n",
    "    a: float = None\n",
    "    inputs = None\n",
    "\n",
    "    def __post_init__(self):\n",
    "        \"\"\"Initialise the weights. We do this post_initialisation because we depend\n",
    "        on the input shape.\n",
    "        \"\"\"\n",
    "        self.weights = np.random.rand(self.input_shape)\n",
    "\n",
    "    def forward(self, x: np.ndarray) -> float:\n",
    "        self.inputs = x\n",
    "        self.z = np.dot(self.weights, x) + self.bias\n",
    "        self.a = self.activation_function.function(self.z)\n",
    "\n",
    "        return self.a\n",
    "    \n",
    "    #def backward(self, delta: np.ndarray):\n",
    "    #    self.error = delta * self.activation_function.derivative(self.z)\n",
    "    #    self.delta = np.append(self.delta, self.error)##\n",
    "\n",
    "    #    return self.error\n",
    "    \n",
    "    def backward(self, delta: np.ndarray):\n",
    "        self.error = delta * self.activation_function.derivative(self.z)\n",
    "        self.weights_gradient +=  np.outer(delta, self.inputs)\n",
    "        self.bias_gradient += delta\n",
    "\n",
    "        return self.error\n",
    "    \n",
    "    def update_weights(self, lr=0.05):\n",
    "        weights_gradient = np.mean(np.outer(self.delta, self.inputs), axis=0)\n",
    "        bias_gradient = np.mean(self.delta)\n",
    "\n",
    "        self.weights -= (np.squeeze(self.weights_gradient) * lr)\n",
    "        self.bias -= ( self.bias_gradient * lr)\n",
    "\n",
    "        self.weights_gradient = 0\n",
    "        self.bias_gradient = 0\n"
   ]
  },
  {
   "cell_type": "code",
   "execution_count": 4,
   "metadata": {},
   "outputs": [],
   "source": [
    "X = [[0, 0], [0, 1], [1, 0], [1, 1]]\n",
    "Y = [0, 1, 1, 1]"
   ]
  },
  {
   "cell_type": "code",
   "execution_count": 5,
   "metadata": {},
   "outputs": [
    {
     "name": "stdout",
     "output_type": "stream",
     "text": [
      "-0.11344469587120076\n"
     ]
    }
   ],
   "source": [
    "n1 = Neuron(2, Sigmoid())\n",
    "for x, y in zip(X, Y):\n",
    "    x = np.array(x)\n",
    "    y = np.array(y)\n",
    "\n",
    "    a = n1.forward(x)\n",
    "    E = 0.5*(y - a)**2\n",
    "    E_prime = (a - y)\n",
    "\n",
    "print(E_prime)"
   ]
  },
  {
   "cell_type": "code",
   "execution_count": 6,
   "metadata": {},
   "outputs": [
    {
     "data": {
      "text/plain": [
       "2"
      ]
     },
     "execution_count": 6,
     "metadata": {},
     "output_type": "execute_result"
    }
   ],
   "source": [
    "n1.input_shape"
   ]
  },
  {
   "cell_type": "code",
   "execution_count": 173,
   "metadata": {},
   "outputs": [
    {
     "data": {
      "image/png": "[encoded data removed]",
      "text/plain": [
       "<Figure size 640x480 with 1 Axes>"
      ]
     },
     "metadata": {},
     "output_type": "display_data"
    }
   ],
   "source": [
    "n1 = Neuron(2, Sigmoid())\n",
    "all_E = []\n",
    "for i in range(10000):\n",
    "    E = 0\n",
    "    for x, y in zip(X, Y):\n",
    "        x = np.array(x)\n",
    "        y = np.array(y)\n",
    "\n",
    "        a = n1.forward(x)\n",
    "        E += 0.5*(y - a)**2\n",
    "        E_prime = (a - y)\n",
    "        delta = n1.backward(E_prime)\n",
    "\n",
    "        n1.update_weights()\n",
    "    all_E += [E]\n",
    "\n",
    "plt.figure()\n",
    "plt.plot(all_E)\n",
    "plt.show()"
   ]
  },
  {
   "cell_type": "code",
   "execution_count": 303,
   "metadata": {},
   "outputs": [],
   "source": [
    "n0 = Neuron(2, Sigmoid())\n",
    "n1 = Neuron(1, Sigmoid())"
   ]
  },
  {
   "cell_type": "code",
   "execution_count": 304,
   "metadata": {},
   "outputs": [
    {
     "name": "stdout",
     "output_type": "stream",
     "text": [
      "Epoch: 0 - 0.105291\r"
     ]
    }
   ],
   "source": [
    "w0 = n0.weights\n",
    "b0 = n0.bias\n",
    "w1 = n1.weights\n",
    "b1 = n1.bias\n",
    "\n",
    "lr = 0.05\n",
    "\n",
    "for i in range(10000):\n",
    "    del_w0 = 0\n",
    "    del_b0 = 0\n",
    "    del_w1 = 0\n",
    "    del_b1 = 0\n",
    "    C = 0\n",
    "    for x, y in zip(X, Y):\n",
    "        z0 = np.dot(x, w0) + b0\n",
    "        a0 = Sigmoid().function(z0)\n",
    "\n",
    "        z1 = np.dot(a0, w1) + b1\n",
    "        a1 = Sigmoid().function(z1)\n",
    "\n",
    "        C += 0.5*(y - a1)**2\n",
    "\n",
    "        delta = (a1 - y) * Sigmoid().derivative(z1)\n",
    "        del_w1 += np.dot(delta, np.transpose(a0))\n",
    "        del_b1 += delta\n",
    "\n",
    "        delta_0 = np.dot(np.transpose(w1), delta) * Sigmoid().derivative(z0)\n",
    "\n",
    "        del_w0 += np.outer(delta_0, np.transpose(x))\n",
    "        del_b0 += delta_0\n",
    "    if np.mod(i, 1000) == 0:\n",
    "        print('Epoch: %d - %f\\r' % (i, C/4), end='')\n",
    "    break\n",
    "\n",
    "    w0 -= (lr/4) * np.squeeze(del_w0)\n",
    "    b0 -= (lr/4) * del_b0\n",
    "    w1 -= (lr/4) * del_w1\n",
    "    b1 -= (lr/4) * del_b1"
   ]
  },
  {
   "cell_type": "code",
   "execution_count": 305,
   "metadata": {},
   "outputs": [
    {
     "data": {
      "text/plain": [
       "-0.1288890762918618"
      ]
     },
     "execution_count": 305,
     "metadata": {},
     "output_type": "execute_result"
    }
   ],
   "source": [
    "del_w1"
   ]
  },
  {
   "cell_type": "code",
   "execution_count": 310,
   "metadata": {},
   "outputs": [
    {
     "name": "stderr",
     "output_type": "stream",
     "text": [
      "c:\\Users\\David\\miniconda3\\envs\\artify310\\lib\\site-packages\\numpy\\core\\fromnumeric.py:3464: RuntimeWarning: Mean of empty slice.\n",
      "  return _methods._mean(a, axis=axis, dtype=dtype,\n",
      "c:\\Users\\David\\miniconda3\\envs\\artify310\\lib\\site-packages\\numpy\\core\\_methods.py:184: RuntimeWarning: invalid value encountered in divide\n",
      "  ret = um.true_divide(\n",
      "c:\\Users\\David\\miniconda3\\envs\\artify310\\lib\\site-packages\\numpy\\core\\_methods.py:192: RuntimeWarning: invalid value encountered in scalar divide\n",
      "  ret = ret.dtype.type(ret / rcount)\n"
     ]
    },
    {
     "ename": "ValueError",
     "evalue": "non-broadcastable output operand with shape (1,) doesn't match the broadcast shape (1,1)",
     "output_type": "error",
     "traceback": [
      "\u001b[1;31m---------------------------------------------------------------------------\u001b[0m",
      "\u001b[1;31mValueError\u001b[0m                                Traceback (most recent call last)",
      "\u001b[1;32mc:\\Users\\David\\Documents\\Coding\\neural_networks_from_scratch\\class_implementation.ipynb Cell 13\u001b[0m line \u001b[0;36m1\n\u001b[0;32m     <a href='vscode-notebook-cell:/c%3A/Users/David/Documents/Coding/neural_networks_from_scratch/class_implementation.ipynb#X12sZmlsZQ%3D%3D?line=14'>15</a>\u001b[0m     d1 \u001b[39m=\u001b[39m n1\u001b[39m.\u001b[39mbackward(E_prime)\n\u001b[0;32m     <a href='vscode-notebook-cell:/c%3A/Users/David/Documents/Coding/neural_networks_from_scratch/class_implementation.ipynb#X12sZmlsZQ%3D%3D?line=15'>16</a>\u001b[0m     d0 \u001b[39m=\u001b[39m n0\u001b[39m.\u001b[39mbackward(np\u001b[39m.\u001b[39mdot(n1\u001b[39m.\u001b[39mweights\u001b[39m.\u001b[39mT, d1))\n\u001b[1;32m---> <a href='vscode-notebook-cell:/c%3A/Users/David/Documents/Coding/neural_networks_from_scratch/class_implementation.ipynb#X12sZmlsZQ%3D%3D?line=18'>19</a>\u001b[0m n1\u001b[39m.\u001b[39;49mupdate_weights(lr\u001b[39m=\u001b[39;49m\u001b[39m0.5\u001b[39;49m)\n\u001b[0;32m     <a href='vscode-notebook-cell:/c%3A/Users/David/Documents/Coding/neural_networks_from_scratch/class_implementation.ipynb#X12sZmlsZQ%3D%3D?line=19'>20</a>\u001b[0m n0\u001b[39m.\u001b[39mupdate_weights(lr\u001b[39m=\u001b[39m\u001b[39m0.5\u001b[39m)\n\u001b[0;32m     <a href='vscode-notebook-cell:/c%3A/Users/David/Documents/Coding/neural_networks_from_scratch/class_implementation.ipynb#X12sZmlsZQ%3D%3D?line=20'>21</a>\u001b[0m all_E \u001b[39m+\u001b[39m\u001b[39m=\u001b[39m [E]\n",
      "\u001b[1;32mc:\\Users\\David\\Documents\\Coding\\neural_networks_from_scratch\\class_implementation.ipynb Cell 13\u001b[0m line \u001b[0;36m6\n\u001b[0;32m     <a href='vscode-notebook-cell:/c%3A/Users/David/Documents/Coding/neural_networks_from_scratch/class_implementation.ipynb#X12sZmlsZQ%3D%3D?line=62'>63</a>\u001b[0m weights_gradient \u001b[39m=\u001b[39m np\u001b[39m.\u001b[39mmean(np\u001b[39m.\u001b[39mouter(\u001b[39mself\u001b[39m\u001b[39m.\u001b[39mdelta, \u001b[39mself\u001b[39m\u001b[39m.\u001b[39minputs), axis\u001b[39m=\u001b[39m\u001b[39m0\u001b[39m)\n\u001b[0;32m     <a href='vscode-notebook-cell:/c%3A/Users/David/Documents/Coding/neural_networks_from_scratch/class_implementation.ipynb#X12sZmlsZQ%3D%3D?line=63'>64</a>\u001b[0m bias_gradient \u001b[39m=\u001b[39m np\u001b[39m.\u001b[39mmean(\u001b[39mself\u001b[39m\u001b[39m.\u001b[39mdelta)\n\u001b[1;32m---> <a href='vscode-notebook-cell:/c%3A/Users/David/Documents/Coding/neural_networks_from_scratch/class_implementation.ipynb#X12sZmlsZQ%3D%3D?line=65'>66</a>\u001b[0m \u001b[39mself\u001b[39m\u001b[39m.\u001b[39mweights \u001b[39m-\u001b[39m\u001b[39m=\u001b[39m (\u001b[39mself\u001b[39m\u001b[39m.\u001b[39mweights_gradient \u001b[39m*\u001b[39m lr)\n\u001b[0;32m     <a href='vscode-notebook-cell:/c%3A/Users/David/Documents/Coding/neural_networks_from_scratch/class_implementation.ipynb#X12sZmlsZQ%3D%3D?line=66'>67</a>\u001b[0m \u001b[39mself\u001b[39m\u001b[39m.\u001b[39mbias \u001b[39m-\u001b[39m\u001b[39m=\u001b[39m ( \u001b[39mself\u001b[39m\u001b[39m.\u001b[39mbias_gradient \u001b[39m*\u001b[39m lr)\n\u001b[0;32m     <a href='vscode-notebook-cell:/c%3A/Users/David/Documents/Coding/neural_networks_from_scratch/class_implementation.ipynb#X12sZmlsZQ%3D%3D?line=68'>69</a>\u001b[0m \u001b[39mself\u001b[39m\u001b[39m.\u001b[39mweights_gradient \u001b[39m=\u001b[39m \u001b[39m0\u001b[39m\n",
      "\u001b[1;31mValueError\u001b[0m: non-broadcastable output operand with shape (1,) doesn't match the broadcast shape (1,1)"
     ]
    }
   ],
   "source": [
    "all_E = []\n",
    "for i in range(10000):\n",
    "    E = 0\n",
    "    for x, y in zip(X, Y):\n",
    "        x = np.array(x)\n",
    "        y = np.array(y)\n",
    "\n",
    "        a0 = n0.forward(x)\n",
    "        a1 = n1.forward(a0)\n",
    "        E += 0.5*(y - a1)**2\n",
    "        E_prime = (a1 - y)\n",
    "        #d1 = n1.backward(E_prime)\n",
    "        #d1 = E_prime * n1.activation_function.derivative(n1.z)\n",
    "        #n1.delta = np.append(n1.delta, d1)\n",
    "        d1 = n1.backward(E_prime)\n",
    "        d0 = n0.backward(np.dot(n1.weights.T, d1))\n",
    "\n",
    "\n",
    "    n1.update_weights(lr=0.5)\n",
    "    n0.update_weights(lr=0.5)\n",
    "    all_E += [E]\n"
   ]
  },
  {
   "cell_type": "code",
   "execution_count": 312,
   "metadata": {},
   "outputs": [
    {
     "data": {
      "text/plain": [
       "(array([0.50307578]), array([[-1.06642033]]))"
      ]
     },
     "execution_count": 312,
     "metadata": {},
     "output_type": "execute_result"
    }
   ],
   "source": [
    "n1.weights, n1.weights_gradient"
   ]
  },
  {
   "cell_type": "code",
   "execution_count": 281,
   "metadata": {},
   "outputs": [
    {
     "data": {
      "text/plain": [
       "-0.017456486935902966"
      ]
     },
     "execution_count": 281,
     "metadata": {},
     "output_type": "execute_result"
    }
   ],
   "source": [
    "np.mean(np.outer(n1.delta, n1.inputs))"
   ]
  },
  {
   "cell_type": "code",
   "execution_count": 276,
   "metadata": {},
   "outputs": [
    {
     "data": {
      "text/plain": [
       "array([-0.00334414, -0.00334414])"
      ]
     },
     "execution_count": 276,
     "metadata": {},
     "output_type": "execute_result"
    }
   ],
   "source": [
    "np.mean(np.outer(n0.delta, n0.inputs), axis=0)"
   ]
  },
  {
   "cell_type": "code",
   "execution_count": 258,
   "metadata": {},
   "outputs": [
    {
     "data": {
      "text/plain": [
       "(-0.0697705855613764, -0.04287276500549477)"
      ]
     },
     "execution_count": 258,
     "metadata": {},
     "output_type": "execute_result"
    }
   ],
   "source": [
    "np.dot(n1.weights.T, d1), np.dot(delta, np.transpose(a0))"
   ]
  },
  {
   "cell_type": "code",
   "execution_count": 217,
   "metadata": {},
   "outputs": [
    {
     "data": {
      "text/plain": [
       "array([[ 0.01947389,  0.01947389],\n",
       "       [-0.00536482, -0.00536482],\n",
       "       [-0.00558877, -0.00558877],\n",
       "       [-0.00392533, -0.00392533]])"
      ]
     },
     "execution_count": 217,
     "metadata": {},
     "output_type": "execute_result"
    }
   ],
   "source": [
    "np.outer(n0.delta, n0.inputs.T)"
   ]
  },
  {
   "cell_type": "code",
   "execution_count": 188,
   "metadata": {},
   "outputs": [
    {
     "data": {
      "text/plain": [
       "((2,), (2,))"
      ]
     },
     "execution_count": 188,
     "metadata": {},
     "output_type": "execute_result"
    }
   ],
   "source": [
    "n0.weights.shape, np.array([0, 1]).shape"
   ]
  },
  {
   "cell_type": "code",
   "execution_count": 192,
   "metadata": {},
   "outputs": [
    {
     "data": {
      "text/plain": [
       "array([ 0.        , -0.03047349])"
      ]
     },
     "execution_count": 192,
     "metadata": {},
     "output_type": "execute_result"
    }
   ],
   "source": [
    "np.multiply(n0.weights,  np.array([0, 1]))"
   ]
  },
  {
   "cell_type": "code",
   "execution_count": 261,
   "metadata": {},
   "outputs": [
    {
     "data": {
      "image/png": "[encoded data removed]",
      "text/plain": [
       "<Figure size 640x480 with 1 Axes>"
      ]
     },
     "metadata": {},
     "output_type": "display_data"
    }
   ],
   "source": [
    "plt.figure()\n",
    "plt.plot(all_E)\n",
    "plt.show()"
   ]
  },
  {
   "cell_type": "code",
   "execution_count": 113,
   "metadata": {},
   "outputs": [
    {
     "name": "stdout",
     "output_type": "stream",
     "text": [
      "[0.74235078]\n"
     ]
    }
   ],
   "source": [
    "x = np.array([0, 0])\n",
    "y = np.array(y)\n",
    "\n",
    "a0 = n0.forward(x)\n",
    "a1 = n1.forward(a0)\n",
    "\n",
    "print(a1)"
   ]
  },
  {
   "cell_type": "code",
   "execution_count": null,
   "metadata": {},
   "outputs": [],
   "source": [
    "@dataclass\n",
    "class Layer():\n",
    "    num_neurons: int\n",
    "    activation: ActivationFunction\n",
    "    input_shape: np.ndarray = None\n",
    "    neurons: List[Neuron] = None\n",
    "    inputs: np.ndarray = None\n",
    "    previous_layer: 'Layer' = None\n",
    "\n",
    "    # Note, we make the weights a property to retain the vectorizability.\n",
    "    @property\n",
    "    def weights(self):\n",
    "        return np.array([n.weights for n in self.neurons])\n",
    "    \n",
    "    @weights.setter\n",
    "    def weights(self, weights):\n",
    "        for w, n in zip(weights, self.neurons):\n",
    "            n.weights = w\n",
    "\n",
    "    # TODO these probably don't need to be properties\n",
    "    @property\n",
    "    def a(self):\n",
    "        return np.array([n.a for n in self.neurons])\n",
    "    \n",
    "    @property\n",
    "    def z(self):\n",
    "        return np.array([n.z for n in self.neurons])\n",
    "    \n",
    "    @property\n",
    "    def error(self):\n",
    "        return np.array([n.error for n in self.neurons])\n",
    "    \n",
    "    @property\n",
    "    def delta(self):\n",
    "        return np.array([n.delta for n in self.neurons])\n",
    "    \n",
    "    @property\n",
    "    def l_inputs(self):\n",
    "        return np.array([n.inputs for n in self.neurons])\n",
    "\n",
    "    def __post_init__(self):\n",
    "        if self.input_shape is not None:\n",
    "            self.initialise_layer()\n",
    "\n",
    "    def __call__(self, layer):\n",
    "        self.input_shape = layer.num_neurons\n",
    "        self.initialise_layer()\n",
    "        self.previous_layer = layer\n",
    "        return self\n",
    "    \n",
    "    def initialise_layer(self):\n",
    "        self.neurons = [Neuron(self.input_shape, self.activation) for _ in range(self.num_neurons)]\n",
    "\n",
    "    def forward(self, x):\n",
    "        self.inputs = x\n",
    "        for n in self.neurons: n.forward(x)\n",
    "        return self.a\n",
    "    \n",
    "    #def backward(self, error, previous_output, lp1 = None):\n",
    "    #    [n.backward(error, p) for n, p in zip(self.neurons, previous_output)]\n",
    "    #    if lp1 is not None:\n",
    "    #        error = compute_error_term(self, lp1)\n",
    "    #        return error\n",
    "        \n",
    "    def backward(self, error_term):\n",
    "        for n, delta in zip(self.neurons, error_term): \n",
    "            n.backward(delta)\n",
    "\n",
    "    def update_weights(self, lr=0.05):\n",
    "        for n in self.neurons:\n",
    "            n.update_weights(lr)\n",
    "\n",
    "def compute_error_term(layer, layerp1):\n",
    "    error = np.zeros(len(layer.neurons))\n",
    "    for i in range(len(layer.neurons)):\n",
    "        for j in range(len(layerp1.neurons)):\n",
    "            error[i] += layerp1.neurons[j].weights[i] * layerp1.neurons[j].error # compute the dot product iteratively.\n",
    "    \n",
    "    return error"
   ]
  },
  {
   "cell_type": "code",
   "execution_count": null,
   "metadata": {},
   "outputs": [],
   "source": [
    "l0 = Layer(2, Sigmoid(), 2)\n",
    "print(l0)\n",
    "l1 = Layer(2, Sigmoid())(l0)\n",
    "print(l1)\n",
    "output = Layer(1, Sigmoid())(l1)\n",
    "print(output)\n",
    "#[n.backward(np.dot(np1.weights, np1.delta * np.ones_like(np1.weights)), a1) for n in l1.neurons for np1 in output.neurons]\n",
    "#[n.backward(np.dot(np1.weights, np1.delta), a1) for n in l0.neurons for np1 in l1.neurons]\n",
    "#print(output.neurons[0].delta)"
   ]
  },
  {
   "cell_type": "code",
   "execution_count": null,
   "metadata": {},
   "outputs": [],
   "source": [
    "x = np.array([1, 1])\n",
    "y = np.array([1])\n",
    "\n",
    "a0 = l0.forward(x)\n",
    "a1 = l1.forward(a0)\n",
    "o = output.forward(a1)\n",
    "\n",
    "E = 0.5*(y - o)**2\n",
    "print(E)\n",
    "E_prime = (o - y)"
   ]
  },
  {
   "cell_type": "code",
   "execution_count": null,
   "metadata": {},
   "outputs": [],
   "source": [
    "a0, l1.inputs"
   ]
  },
  {
   "cell_type": "code",
   "execution_count": null,
   "metadata": {},
   "outputs": [],
   "source": [
    "output.backward(E_prime)\n",
    "l1.backward(np.dot(output.weights.T, output.error))\n",
    "l0.backward(np.dot(l1.weights.T, l1.error))"
   ]
  },
  {
   "cell_type": "code",
   "execution_count": null,
   "metadata": {},
   "outputs": [],
   "source": [
    "output.error"
   ]
  },
  {
   "cell_type": "code",
   "execution_count": null,
   "metadata": {},
   "outputs": [],
   "source": [
    "l0.weights"
   ]
  },
  {
   "cell_type": "code",
   "execution_count": null,
   "metadata": {},
   "outputs": [],
   "source": [
    "output.update_weights()\n",
    "l1.update_weights()\n",
    "l0.update_weights()"
   ]
  },
  {
   "cell_type": "code",
   "execution_count": null,
   "metadata": {},
   "outputs": [],
   "source": [
    "l0.weights"
   ]
  },
  {
   "cell_type": "markdown",
   "metadata": {},
   "source": [
    "# Testing implementation"
   ]
  },
  {
   "cell_type": "code",
   "execution_count": null,
   "metadata": {},
   "outputs": [],
   "source": [
    "l0 = Layer(1, Sigmoid(), 2)\n",
    "print(l0)\n",
    "l1 = Layer(1, Sigmoid())(l0)\n",
    "print(l1)\n",
    "output = Layer(1, Sigmoid())(l1)\n",
    "print(output)\n",
    "#[n.backward(np.dot(np1.weights, np1.delta * np.ones_like(np1.weights)), a1) for n in l1.neurons for np1 in output.neurons]\n",
    "#[n.backward(np.dot(np1.weights, np1.delta), a1) for n in l0.neurons for np1 in l1.neurons]\n",
    "#print(output.neurons[0].delta)"
   ]
  },
  {
   "cell_type": "code",
   "execution_count": null,
   "metadata": {},
   "outputs": [],
   "source": [
    "all_E = []\n",
    "\n",
    "for i in range(100000):\n",
    "    epoch_E = []\n",
    "    for x, y in zip(X, Y):\n",
    "        x = np.array(x)\n",
    "        y = np.array(y)\n",
    "        a0 = l0.forward(x)\n",
    "        a1 = l1.forward(a0)\n",
    "        o = output.forward(a1)\n",
    "\n",
    "        E = 0.5*(y - o)**2\n",
    "        epoch_E += [E]\n",
    "        E_prime = (o - y)\n",
    "\n",
    "        output.backward(E_prime)\n",
    "        l1.backward(np.dot(output.weights.T, output.error))\n",
    "        l0.backward(np.dot(l1.weights.T, l1.error))\n",
    "    all_E += [np.mean(epoch_E)]\n",
    "    print(all_E[-1])\n",
    "    \n",
    "    output.update_weights(lr=0.05)\n",
    "    l1.update_weights(lr = 0.05)\n",
    "    l0.update_weights(lr = 0.05)"
   ]
  },
  {
   "cell_type": "code",
   "execution_count": null,
   "metadata": {},
   "outputs": [],
   "source": [
    "plt.figure()\n",
    "plt.plot(all_E)\n",
    "plt.show()"
   ]
  },
  {
   "cell_type": "code",
   "execution_count": null,
   "metadata": {},
   "outputs": [],
   "source": [
    "x = np.array([1, 0])\n",
    "\n",
    "a0 = l0.forward(x)\n",
    "a1 = l1.forward(a0)\n",
    "o = output.forward(a1)\n",
    "\n",
    "print(o)"
   ]
  },
  {
   "cell_type": "code",
   "execution_count": null,
   "metadata": {},
   "outputs": [],
   "source": [
    "y"
   ]
  },
  {
   "cell_type": "code",
   "execution_count": null,
   "metadata": {},
   "outputs": [],
   "source": []
  }
 ],
 "metadata": {
  "kernelspec": {
   "display_name": "artify310",
   "language": "python",
   "name": "python3"
  },
  "language_info": {
   "codemirror_mode": {
    "name": "ipython",
    "version": 3
   },
   "file_extension": ".py",
   "mimetype": "text/x-python",
   "name": "python",
   "nbconvert_exporter": "python",
   "pygments_lexer": "ipython3",
   "version": "3.10.8"
  }
 },
 "nbformat": 4,
 "nbformat_minor": 2
}
