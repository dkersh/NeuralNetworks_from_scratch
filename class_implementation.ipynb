{
 "cells": [
  {
   "cell_type": "markdown",
   "metadata": {},
   "source": [
    "# Neural Network from Scratch in Python"
   ]
  },
  {
   "cell_type": "code",
   "execution_count": 1,
   "metadata": {},
   "outputs": [],
   "source": [
    "from dataclasses import dataclass\n",
    "from abc import ABC, abstractmethod\n",
    "import numpy as np\n",
    "from typing import List"
   ]
  },
  {
   "cell_type": "markdown",
   "metadata": {},
   "source": [
    "## 1 Layer, 1 Neuron Neural Network, OR logic gate\n",
    "What goes on inside a perceptron?\n",
    "\n",
    "$z = \\mathbf{w} \\cdot \\mathbf{x} + b = w_0x_0 + w_1x_1 + b$\n",
    "\n",
    "We introduce non-linearity to the system using the sigmoid function i.e.\n",
    "$a = \\sigma(z) = \\frac{1}{1+e^{-z}}$\n",
    "\n",
    "### Backpropagation\n",
    "The problem regards how we actually update the weights of each neuron in the system. A common method utilises what is called the _gradient descent_ algorithm.\n",
    "This involves updating the weights of each neuron, every epoch we train the model. A hyperparameter $\\eta$ is introduced which is commonly called the _learning rate_ (LR) or occassionally _mixing parameter_.\n",
    "\n",
    "$\n",
    "\\begin{equation}\n",
    "\\mathbf{w}' = \\mathbf{w} - \\eta \\frac{\\partial E}{\\partial \\mathbf{w}}\n",
    "\\end{equation}\n",
    "$\n",
    "\n",
    "We use the chain rule to solve $\\frac{\\partial E}{\\partial \\mathbf{w}}$ i.e.\n",
    "$\\begin{equation}\n",
    "\\frac{\\partial E}{\\partial \\mathbf{w}} = \\frac{\\partial E}{\\partial a} \\frac{\\partial a}{\\partial z} \\frac{\\partial z}{\\partial \\mathbf{w}}\n",
    "\\end{equation}$\n",
    "\n",
    "Solving each term (assuming the Error Function is MSE here and activation function is sigmoid in this case):\n",
    "$\\begin{equation}\n",
    "\\frac{\\partial E}{\\partial a} = \\frac{\\partial}{\\partial a}\\frac{1}{2} (y - a)^2 = a - y\n",
    "\\end{equation}$\n",
    "\n",
    "$\\begin{equation}\n",
    "\\frac{\\partial a}{\\partial z} = \\frac{\\partial}{\\partial z}\\sigma(z) = \\sigma(z)(1 - \\sigma(z))\n",
    "\\end{equation}$\n",
    "\n",
    "$\\begin{equation}\n",
    "\\frac{\\partial z}{\\partial \\mathbf{w}} = \\frac{\\partial}{\\partial \\mathbf{w}} \\mathbf{w} \\cdot \\mathbf{x} + b = \\mathbf{x}\n",
    "\\end{equation}$\n",
    "\n",
    "which finally gives us\n",
    "\n",
    "$\\begin{equation}\n",
    "\\frac{\\partial E}{\\partial \\mathbf{w}} = (a - y) \\times \\sigma(z)(1 - \\sigma(z)) \\times \\mathbf{x}\n",
    "\\end{equation}$\n",
    "\n",
    "and finally what about the bias?\n",
    "\n",
    "$\\begin{equation}\n",
    "\\frac{\\partial E}{\\partial b} = \\frac{\\partial E}{\\partial a} \\frac{\\partial a}{\\partial z} \\frac{\\partial z}{\\partial b}\n",
    "\\end{equation}$\n",
    "\n",
    "We know most of these terms except the last\n",
    "\n",
    "$\\begin{equation}\n",
    "\\frac{\\partial z}{\\partial b} = \\frac{\\partial}{\\partial b} \\mathbf{w} \\cdot \\mathbf{x} + b = 1\n",
    "\\end{equation}$\n",
    "\n",
    "and so, finally\n",
    "\n",
    "$\\begin{equation}\n",
    "\\frac{\\partial E}{\\partial b} = (a - y) \\times \\sigma(z)(1 - \\sigma(z))\n",
    "\\end{equation}$"
   ]
  },
  {
   "cell_type": "code",
   "execution_count": 2,
   "metadata": {},
   "outputs": [],
   "source": [
    "class ActivationFunction(ABC):\n",
    "    @abstractmethod\n",
    "    def function(self):\n",
    "        pass\n",
    "\n",
    "    @abstractmethod\n",
    "    def derivative(self):\n",
    "        pass\n",
    "\n",
    "class ErrorFunction(ABC):\n",
    "    @abstractmethod\n",
    "    def function(self):\n",
    "        pass\n",
    "\n",
    "    def derivative(self):\n",
    "        pass"
   ]
  },
  {
   "cell_type": "code",
   "execution_count": 161,
   "metadata": {},
   "outputs": [],
   "source": [
    "\n",
    "@dataclass\n",
    "class Sigmoid(ActivationFunction):\n",
    "    name: str = 'sigmoid'\n",
    "\n",
    "    def function(self, x):\n",
    "        return 1/(1 + np.exp(-x))\n",
    "    \n",
    "    def derivative(self, x):\n",
    "        return self.function(x)*(1-self.function(x))\n",
    "    \n",
    "@dataclass \n",
    "class MeanSquaredError(ErrorFunction):\n",
    "    name: str = 'MSE'\n",
    "\n",
    "    def function(self, a, y):\n",
    "        return 0.5*(y - a)**2\n",
    "    \n",
    "    def derivative(self, a, y):\n",
    "        return (a - y)\n",
    "\n",
    "@dataclass\n",
    "class Neuron():\n",
    "    input_shape: int\n",
    "    activation_function: ActivationFunction\n",
    "    weights: np.ndarray[np.float64] = None\n",
    "    bias: float = np.random.rand()\n",
    "    del_w0: float = 0\n",
    "    del_b0: float = 0\n",
    "\n",
    "    def __post_init__(self):\n",
    "        \"\"\"Initialise the weights. We do this post_initialisation because we depend\n",
    "        on the input shape.\n",
    "        \"\"\"\n",
    "        self.weights = np.random.rand(self.input_shape)\n",
    "\n",
    "    def forward(self, x: np.ndarray) -> float:\n",
    "        self.inputs = x\n",
    "        weighted_sum = np.dot(self.weights, x) + self.bias\n",
    "        return self.activation_function.function(weighted_sum)\n",
    "    \n",
    "    def backward(self, x: np.ndarray, y, lr=0.05):\n",
    "        a = self.forward(x)\n",
    "        delta = (a - y) * self.activation_function.derivative(\n",
    "            np.dot(self.weights, x) + self.bias\n",
    "            )\n",
    "        self.del_w0 += np.dot(delta, np.transpose(x))\n",
    "        self.del_b0 += delta\n",
    "        self.weights -= (lr/4) * self.del_w0\n",
    "        self.bias -= (lr/4) * self.del_b0\n",
    "\n",
    "        return delta\n",
    "    \n",
    "    def backward(self, error_derivative: np.ndarray, lr=0.05):\n",
    "        delta = error_derivative * self.activation_function.derivative(\n",
    "            np.dot(self.weights, self.inputs) + self.bias\n",
    "            )\n",
    "        self.del_w0 += np.dot(delta, np.transpose(self.inputs))\n",
    "        self.del_b0 += delta\n",
    "        self.weights -= (lr/4) * self.del_w0\n",
    "        self.bias -= (lr/4) * self.del_b0\n",
    "\n",
    "        return delta\n",
    "    \n",
    "@dataclass\n",
    "class Layer():\n",
    "    num_neurons: int\n",
    "    input_tensor: np.ndarray\n",
    "    activation: ActivationFunction\n",
    "    neurons: List[Neuron] = None\n",
    "\n",
    "    def __post_init__(self):\n",
    "        self.neurons = [Neuron(np.shape(self.input_tensor), self.activation) for _ in range(self.num_neurons)]\n",
    "\n",
    "    def forward(self, x):\n",
    "        raise NotImplementedError\n",
    "    \n",
    "    def backward(self, x, y, lr=0.05):\n",
    "        raise NotImplementedError"
   ]
  },
  {
   "cell_type": "code",
   "execution_count": 162,
   "metadata": {},
   "outputs": [],
   "source": [
    "X = [[0, 0], [0, 1], [1, 0], [1, 1]]\n",
    "Y = [0, 1, 1, 1]"
   ]
  },
  {
   "cell_type": "code",
   "execution_count": 163,
   "metadata": {},
   "outputs": [],
   "source": [
    "n1 = Neuron(2, Sigmoid())"
   ]
  },
  {
   "cell_type": "code",
   "execution_count": 164,
   "metadata": {},
   "outputs": [],
   "source": [
    "n1 = Neuron(2, Sigmoid())\n",
    "all_E = []\n",
    "for i in range(100):\n",
    "    for x, y in zip(X, Y):\n",
    "        x = np.array(x)\n",
    "        y = np.array(y)\n",
    "\n",
    "        a = n1.forward(x)\n",
    "        E = 0.5*(y - a)**2\n",
    "        delta = n1.backward(x, y)\n",
    "    all_E += [E]"
   ]
  },
  {
   "cell_type": "code",
   "execution_count": 166,
   "metadata": {},
   "outputs": [
    {
     "data": {
      "image/png": "[encoded data removed]",
      "text/plain": [
       "<Figure size 640x480 with 1 Axes>"
      ]
     },
     "metadata": {},
     "output_type": "display_data"
    }
   ],
   "source": [
    "import matplotlib.pyplot as plt\n",
    "plt.figure()\n",
    "plt.plot(range(len(all_E)), all_E)\n",
    "plt.xlabel('epochs [N]')\n",
    "plt.ylabel('MSE')\n",
    "plt.show()"
   ]
  },
  {
   "cell_type": "code",
   "execution_count": 117,
   "metadata": {},
   "outputs": [],
   "source": [
    "n00 = Neuron(2, Sigmoid())\n",
    "n01 = Neuron(2, Sigmoid())\n",
    "n10 = Neuron(2, Sigmoid())"
   ]
  },
  {
   "cell_type": "code",
   "execution_count": 119,
   "metadata": {},
   "outputs": [],
   "source": [
    "layer0 = [n00, n01]\n",
    "layer1 = [n10]\n",
    "\n",
    "network = [layer0, layer1]"
   ]
  },
  {
   "cell_type": "code",
   "execution_count": 123,
   "metadata": {},
   "outputs": [
    {
     "data": {
      "text/plain": [
       "array([1, 1])"
      ]
     },
     "execution_count": 123,
     "metadata": {},
     "output_type": "execute_result"
    }
   ],
   "source": [
    "x"
   ]
  },
  {
   "cell_type": "code",
   "execution_count": 126,
   "metadata": {},
   "outputs": [
    {
     "name": "stdout",
     "output_type": "stream",
     "text": [
      "[0.8590092470171296, 0.8946934653755384]\n",
      "[0.8902065859153763]\n"
     ]
    }
   ],
   "source": [
    "a0 = [layer0[0].forward(x), layer0[1].forward(x)]\n",
    "a1 = [layer1[0].forward(a0)]\n",
    "\n",
    "print(a0)\n",
    "print(a1)"
   ]
  },
  {
   "cell_type": "code",
   "execution_count": null,
   "metadata": {},
   "outputs": [],
   "source": []
  }
 ],
 "metadata": {
  "kernelspec": {
   "display_name": "artify310",
   "language": "python",
   "name": "python3"
  },
  "language_info": {
   "codemirror_mode": {
    "name": "ipython",
    "version": 3
   },
   "file_extension": ".py",
   "mimetype": "text/x-python",
   "name": "python",
   "nbconvert_exporter": "python",
   "pygments_lexer": "ipython3",
   "version": "3.10.8"
  }
 },
 "nbformat": 4,
 "nbformat_minor": 2
}
