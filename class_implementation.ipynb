{
 "cells": [
  {
   "cell_type": "markdown",
   "metadata": {},
   "source": [
    "# Neural Network from Scratch in Python"
   ]
  },
  {
   "cell_type": "code",
   "execution_count": 1,
   "metadata": {},
   "outputs": [],
   "source": [
    "from dataclasses import dataclass\n",
    "from abc import ABC, abstractmethod\n",
    "import numpy as np\n",
    "from typing import List\n",
    "import matplotlib.pyplot as plt"
   ]
  },
  {
   "cell_type": "markdown",
   "metadata": {},
   "source": [
    "## 1 Layer, 1 Neuron Neural Network, OR logic gate\n",
    "What goes on inside a perceptron?\n",
    "\n",
    "$z = \\mathbf{w} \\cdot \\mathbf{x} + b = w_0x_0 + w_1x_1 + b$\n",
    "\n",
    "We introduce non-linearity to the system using the sigmoid function i.e.\n",
    "$a = \\sigma(z) = \\frac{1}{1+e^{-z}}$\n",
    "\n",
    "### Backpropagation\n",
    "The problem regards how we actually update the weights of each neuron in the system. A common method utilises what is called the _gradient descent_ algorithm.\n",
    "This involves updating the weights of each neuron, every epoch we train the model. A hyperparameter $\\eta$ is introduced which is commonly called the _learning rate_ (LR) or occassionally _mixing parameter_.\n",
    "\n",
    "$\n",
    "\\begin{equation}\n",
    "\\mathbf{w}' = \\mathbf{w} - \\eta \\frac{\\partial E}{\\partial \\mathbf{w}}\n",
    "\\end{equation}\n",
    "$\n",
    "\n",
    "We use the chain rule to solve $\\frac{\\partial E}{\\partial \\mathbf{w}}$ i.e.\n",
    "$\\begin{equation}\n",
    "\\frac{\\partial E}{\\partial \\mathbf{w}} = \\frac{\\partial E}{\\partial a} \\frac{\\partial a}{\\partial z} \\frac{\\partial z}{\\partial \\mathbf{w}}\n",
    "\\end{equation}$\n",
    "\n",
    "Solving each term (assuming the Error Function is MSE here and activation function is sigmoid in this case):\n",
    "$\\begin{equation}\n",
    "\\frac{\\partial E}{\\partial a} = \\frac{\\partial}{\\partial a}\\frac{1}{2} (y - a)^2 = a - y\n",
    "\\end{equation}$\n",
    "\n",
    "$\\begin{equation}\n",
    "\\frac{\\partial a}{\\partial z} = \\frac{\\partial}{\\partial z}\\sigma(z) = \\sigma(z)(1 - \\sigma(z))\n",
    "\\end{equation}$\n",
    "\n",
    "$\\begin{equation}\n",
    "\\frac{\\partial z}{\\partial \\mathbf{w}} = \\frac{\\partial}{\\partial \\mathbf{w}} \\mathbf{w} \\cdot \\mathbf{x} + b = \\mathbf{x}\n",
    "\\end{equation}$\n",
    "\n",
    "which finally gives us\n",
    "\n",
    "$\\begin{equation}\n",
    "\\frac{\\partial E}{\\partial \\mathbf{w}} = (a - y) \\times \\sigma(z)(1 - \\sigma(z)) \\times \\mathbf{x}\n",
    "\\end{equation}$\n",
    "\n",
    "and finally what about the bias?\n",
    "\n",
    "$\\begin{equation}\n",
    "\\frac{\\partial E}{\\partial b} = \\frac{\\partial E}{\\partial a} \\frac{\\partial a}{\\partial z} \\frac{\\partial z}{\\partial b}\n",
    "\\end{equation}$\n",
    "\n",
    "We know most of these terms except the last\n",
    "\n",
    "$\\begin{equation}\n",
    "\\frac{\\partial z}{\\partial b} = \\frac{\\partial}{\\partial b} \\mathbf{w} \\cdot \\mathbf{x} + b = 1\n",
    "\\end{equation}$\n",
    "\n",
    "and so, finally\n",
    "\n",
    "$\\begin{equation}\n",
    "\\frac{\\partial E}{\\partial b} = (a - y) \\times \\sigma(z)(1 - \\sigma(z))\n",
    "\\end{equation}$"
   ]
  },
  {
   "cell_type": "code",
   "execution_count": 2,
   "metadata": {},
   "outputs": [],
   "source": [
    "class ActivationFunction(ABC):\n",
    "    @abstractmethod\n",
    "    def function(self):\n",
    "        pass\n",
    "\n",
    "    @abstractmethod\n",
    "    def derivative(self):\n",
    "        pass\n",
    "\n",
    "class ErrorFunction(ABC):\n",
    "    @abstractmethod\n",
    "    def function(self):\n",
    "        pass\n",
    "\n",
    "    def derivative(self):\n",
    "        pass"
   ]
  },
  {
   "cell_type": "code",
   "execution_count": 320,
   "metadata": {},
   "outputs": [],
   "source": [
    "\n",
    "@dataclass\n",
    "class Sigmoid(ActivationFunction):\n",
    "    name: str = 'sigmoid'\n",
    "\n",
    "    def function(self, x):\n",
    "        return 1/(1 + np.exp(-x))\n",
    "    \n",
    "    def derivative(self, x):\n",
    "        return self.function(x)*(1-self.function(x))\n",
    "    \n",
    "@dataclass \n",
    "class MeanSquaredError(ErrorFunction):\n",
    "    name: str = 'MSE'\n",
    "\n",
    "    def function(self, a, y):\n",
    "        return 0.5*(y - a)**2\n",
    "    \n",
    "    def derivative(self, a, y):\n",
    "        return (a - y)\n",
    "\n",
    "@dataclass\n",
    "class Neuron():\n",
    "    input_shape: int\n",
    "    activation_function: ActivationFunction\n",
    "    weights: np.ndarray[np.float64] = None\n",
    "    bias: float = np.random.rand()\n",
    "    error: float = 0\n",
    "    delta: np.ndarray = np.array([])\n",
    "    delta_weights: np.ndarray = np.array([])\n",
    "    z: float = None\n",
    "    a: float = None\n",
    "\n",
    "    def __post_init__(self):\n",
    "        \"\"\"Initialise the weights. We do this post_initialisation because we depend\n",
    "        on the input shape.\n",
    "        \"\"\"\n",
    "        self.weights = np.random.rand(self.input_shape)\n",
    "\n",
    "    def forward(self, x: np.ndarray) -> float:\n",
    "        self.inputs = x\n",
    "        self.z = np.dot(self.weights, x) + self.bias\n",
    "        self.a = self.activation_function.function(self.z)\n",
    "\n",
    "        return self.a\n",
    "    \n",
    "    def backward(self, delta: np.ndarray):\n",
    "        self.error = delta * self.activation_function.derivative(self.z)\n",
    "\n",
    "        return self.error\n",
    "    \n",
    "    def append_errors(self, previous_output):\n",
    "        self.delta = np.append(self.delta, self.error)\n",
    "        self.delta_weights = np.append(self.delta_weights, np.outer(self.error, previous_output))\n",
    "    \n",
    "    def update_weights(self, lr=0.05):\n",
    "        self.weights -= (lr/4) * np.mean(self.delta_weights)\n",
    "        self.bias -= (lr/4) * np.mean(self.delta)\n",
    "        self.delta_weights = np.array([])\n",
    "        self.delta = np.array([])\n"
   ]
  },
  {
   "cell_type": "code",
   "execution_count": 56,
   "metadata": {},
   "outputs": [],
   "source": [
    "X = [[0, 0], [0, 1], [1, 0], [1, 1]]\n",
    "Y = [0, 1, 1, 1]"
   ]
  },
  {
   "cell_type": "code",
   "execution_count": 58,
   "metadata": {},
   "outputs": [
    {
     "name": "stdout",
     "output_type": "stream",
     "text": [
      "-0.14371635272559125\n"
     ]
    }
   ],
   "source": [
    "n1 = Neuron(2, Sigmoid())\n",
    "for x, y in zip(X, Y):\n",
    "    x = np.array(x)\n",
    "    y = np.array(y)\n",
    "\n",
    "    a = n1.forward(x)\n",
    "    E = 0.5*(y - a)**2\n",
    "    E_prime = (a - y)\n",
    "\n",
    "print(E_prime)"
   ]
  },
  {
   "cell_type": "code",
   "execution_count": 60,
   "metadata": {},
   "outputs": [
    {
     "data": {
      "text/plain": [
       "2"
      ]
     },
     "execution_count": 60,
     "metadata": {},
     "output_type": "execute_result"
    }
   ],
   "source": [
    "n1.input_shape"
   ]
  },
  {
   "cell_type": "code",
   "execution_count": 33,
   "metadata": {},
   "outputs": [
    {
     "data": {
      "image/png": "[encoded data removed]",
      "text/plain": [
       "<Figure size 640x480 with 1 Axes>"
      ]
     },
     "metadata": {},
     "output_type": "display_data"
    }
   ],
   "source": [
    "n1 = Neuron(2, Sigmoid())\n",
    "all_E = []\n",
    "for i in range(10000):\n",
    "    for x, y in zip(X, Y):\n",
    "        x = np.array(x)\n",
    "        y = np.array(y)\n",
    "\n",
    "        a = n1.forward(x)\n",
    "        E = 0.5*(y - a)**2\n",
    "        E_prime = (a - y)\n",
    "        delta = n1.backward(E_prime, x)\n",
    "\n",
    "        n1.update_weights()\n",
    "    all_E += [E]\n",
    "\n",
    "plt.figure()\n",
    "plt.plot(all_E)\n",
    "plt.show()"
   ]
  },
  {
   "cell_type": "code",
   "execution_count": 61,
   "metadata": {},
   "outputs": [],
   "source": [
    "n0 = Neuron(2, Sigmoid())\n",
    "n1 = Neuron(1, Sigmoid())\n",
    "all_E = []\n",
    "for i in range(100000):\n",
    "    E = 0\n",
    "    for x, y in zip(X, Y):\n",
    "        x = np.array(x)\n",
    "        y = np.array(y)\n",
    "\n",
    "        a0 = n0.forward(x)\n",
    "        a1 = n1.forward(a0)\n",
    "        E += 0.5*(y - a1)**2\n",
    "        E_prime = (a1 - y)\n",
    "        d1 = n1.backward(E_prime, n0.a)\n",
    "        d0 = n0.backward(d1, x)\n",
    "\n",
    "    n1.update_weights()\n",
    "    n0.update_weights()\n",
    "    all_E += [E]"
   ]
  },
  {
   "cell_type": "code",
   "execution_count": 36,
   "metadata": {},
   "outputs": [
    {
     "data": {
      "image/png": "[encoded data removed]",
      "text/plain": [
       "<Figure size 640x480 with 1 Axes>"
      ]
     },
     "metadata": {},
     "output_type": "display_data"
    }
   ],
   "source": [
    "plt.figure()\n",
    "plt.plot(all_E)\n",
    "plt.show()"
   ]
  },
  {
   "cell_type": "code",
   "execution_count": 365,
   "metadata": {},
   "outputs": [],
   "source": [
    "@dataclass\n",
    "class Layer():\n",
    "    num_neurons: int\n",
    "    activation: ActivationFunction\n",
    "    input_shape: np.ndarray = None\n",
    "    neurons: List[Neuron] = None\n",
    "    inputs: np.ndarray = None\n",
    "    z: np.ndarray[float] = None\n",
    "    a: np.ndarray[float] = None\n",
    "\n",
    "    def __post_init__(self):\n",
    "        if self.input_shape is not None:\n",
    "            self.initialise_layer()\n",
    "\n",
    "    def __call__(self, layer):\n",
    "        self.input_shape = layer.num_neurons\n",
    "        self.initialise_layer()\n",
    "        return self\n",
    "    \n",
    "    def initialise_layer(self):\n",
    "        self.neurons = [Neuron(self.input_shape, self.activation) for _ in range(self.num_neurons)]\n",
    "\n",
    "    def forward(self, x):\n",
    "        self.inputs = x\n",
    "        for n in self.neurons: n.forward(x)\n",
    "        self.z = [n.z for n in self.neurons]\n",
    "        self.a = [n.a for n in self.neurons]\n",
    "        return self.a\n",
    "    \n",
    "    def backward(self, layerp1):\n",
    "        error = compute_error_term(self, layerp1)\n",
    "        [n.backward(e) for n, e in zip(self.neurons, error)]\n",
    "\n",
    "def compute_error_term(layer, layerp1):\n",
    "    error = np.zeros(len(layer.neurons))\n",
    "    for i in range(len(layer.neurons)):\n",
    "        for j in range(len(layerp1.neurons)):\n",
    "            error[i] += layerp1.neurons[j].weights[i] * layerp1.neurons[j].error # compute the dot product iteratively.\n",
    "    \n",
    "    return error"
   ]
  },
  {
   "cell_type": "code",
   "execution_count": 385,
   "metadata": {},
   "outputs": [
    {
     "name": "stdout",
     "output_type": "stream",
     "text": [
      "Layer(num_neurons=5, activation=Sigmoid(name='sigmoid'), input_shape=2, neurons=[Neuron(input_shape=2, activation_function=Sigmoid(name='sigmoid'), weights=array([0.21982991, 0.68849561]), bias=0.6605556812289234, error=0, delta=array([], dtype=float64), delta_weights=array([], dtype=float64), z=None, a=None), Neuron(input_shape=2, activation_function=Sigmoid(name='sigmoid'), weights=array([0.09835255, 0.93055049]), bias=0.6605556812289234, error=0, delta=array([], dtype=float64), delta_weights=array([], dtype=float64), z=None, a=None), Neuron(input_shape=2, activation_function=Sigmoid(name='sigmoid'), weights=array([0.93455499, 0.27234995]), bias=0.6605556812289234, error=0, delta=array([], dtype=float64), delta_weights=array([], dtype=float64), z=None, a=None), Neuron(input_shape=2, activation_function=Sigmoid(name='sigmoid'), weights=array([0.88348776, 0.55879816]), bias=0.6605556812289234, error=0, delta=array([], dtype=float64), delta_weights=array([], dtype=float64), z=None, a=None), Neuron(input_shape=2, activation_function=Sigmoid(name='sigmoid'), weights=array([0.48252826, 0.0690931 ]), bias=0.6605556812289234, error=0, delta=array([], dtype=float64), delta_weights=array([], dtype=float64), z=None, a=None)], inputs=None, z=None, a=None)\n",
      "Layer(num_neurons=2, activation=Sigmoid(name='sigmoid'), input_shape=5, neurons=[Neuron(input_shape=5, activation_function=Sigmoid(name='sigmoid'), weights=array([0.2104857 , 0.0252157 , 0.07741487, 0.914384  , 0.83939475]), bias=0.6605556812289234, error=0, delta=array([], dtype=float64), delta_weights=array([], dtype=float64), z=None, a=None), Neuron(input_shape=5, activation_function=Sigmoid(name='sigmoid'), weights=array([0.71772005, 0.87201559, 0.09237827, 0.40450633, 0.99012678]), bias=0.6605556812289234, error=0, delta=array([], dtype=float64), delta_weights=array([], dtype=float64), z=None, a=None)], inputs=None, z=None, a=None)\n",
      "Layer(num_neurons=1, activation=Sigmoid(name='sigmoid'), input_shape=2, neurons=[Neuron(input_shape=2, activation_function=Sigmoid(name='sigmoid'), weights=array([0.46675077, 0.89902247]), bias=0.6605556812289234, error=0, delta=array([], dtype=float64), delta_weights=array([], dtype=float64), z=None, a=None)], inputs=None, z=None, a=None)\n"
     ]
    },
    {
     "data": {
      "text/plain": [
       "[array([0.09757583])]"
      ]
     },
     "execution_count": 385,
     "metadata": {},
     "output_type": "execute_result"
    }
   ],
   "source": [
    "l0 = Layer(5, Sigmoid(), 2)\n",
    "print(l0)\n",
    "l1 = Layer(2, Sigmoid())(l0)\n",
    "print(l1)\n",
    "output = Layer(1, Sigmoid())(l1)\n",
    "print(output)\n",
    "\n",
    "x = np.array([0, 0])\n",
    "y = np.array([0])\n",
    "\n",
    "a0 = l0.forward(x)\n",
    "a1 = l1.forward(a0)\n",
    "o = output.forward(a1)\n",
    "\n",
    "E = 0.5*(y - o)**2\n",
    "E_prime = (o - y)\n",
    "\n",
    "def compute_error_term(layer, layerp1):\n",
    "    error = np.zeros(len(layer.neurons))\n",
    "    for i in range(len(layer.neurons)):\n",
    "        for j in range(len(layerp1.neurons)):\n",
    "            error[i] += layerp1.neurons[j].weights[i] * layerp1.neurons[j].error # compute the dot product iteratively.\n",
    "    \n",
    "    return error\n",
    "\n",
    "\n",
    "[n.backward(E_prime) for n in output.neurons]\n",
    "#[n.backward(np.dot(np1.weights, np1.delta * np.ones_like(np1.weights)), a1) for n in l1.neurons for np1 in output.neurons]\n",
    "#[n.backward(np.dot(np1.weights, np1.delta), a1) for n in l0.neurons for np1 in l1.neurons]\n",
    "#print(output.neurons[0].delta)"
   ]
  },
  {
   "cell_type": "code",
   "execution_count": 384,
   "metadata": {},
   "outputs": [],
   "source": [
    "error = np.zeros(len(output.neurons))\n",
    "for i in range(len(output.neurons)):\n",
    "    for j in range(len(l1.neurons)):\n",
    "        error[i] += l1.neurons[j].weights[i] * l1.neurons[j].error"
   ]
  },
  {
   "cell_type": "code",
   "execution_count": 383,
   "metadata": {},
   "outputs": [
    {
     "data": {
      "text/plain": [
       "0"
      ]
     },
     "execution_count": 383,
     "metadata": {},
     "output_type": "execute_result"
    }
   ],
   "source": [
    "l1.neurons[0].error"
   ]
  },
  {
   "cell_type": "code",
   "execution_count": 386,
   "metadata": {},
   "outputs": [
    {
     "data": {
      "text/plain": [
       "[0.0010642757473972022,\n",
       " 0.0010498952225788877,\n",
       " 0.00019007016844851732,\n",
       " 0.0014392760353869507,\n",
       " 0.002047384183009872]"
      ]
     },
     "execution_count": 386,
     "metadata": {},
     "output_type": "execute_result"
    }
   ],
   "source": [
    "error = compute_error_term(l1, output)\n",
    "[n.backward(e) for n, e in zip(l1.neurons, error)]\n",
    "\n",
    "error = compute_error_term(l0, l1)\n",
    "[n.backward(e) for n, e in zip(l0.neurons, error)]"
   ]
  },
  {
   "cell_type": "code",
   "execution_count": 379,
   "metadata": {},
   "outputs": [
    {
     "ename": "ValueError",
     "evalue": "setting an array element with a sequence.",
     "output_type": "error",
     "traceback": [
      "\u001b[1;31m---------------------------------------------------------------------------\u001b[0m",
      "\u001b[1;31mTypeError\u001b[0m                                 Traceback (most recent call last)",
      "\u001b[1;31mTypeError\u001b[0m: only size-1 arrays can be converted to Python scalars",
      "\nThe above exception was the direct cause of the following exception:\n",
      "\u001b[1;31mValueError\u001b[0m                                Traceback (most recent call last)",
      "\u001b[1;32mc:\\Users\\David\\Documents\\Coding\\neural_networks_from_scratch\\class_implementation.ipynb Cell 16\u001b[0m line \u001b[0;36m1\n\u001b[1;32m----> <a href='vscode-notebook-cell:/c%3A/Users/David/Documents/Coding/neural_networks_from_scratch/class_implementation.ipynb#Y101sZmlsZQ%3D%3D?line=0'>1</a>\u001b[0m \u001b[39mfor\u001b[39;00m n, d \u001b[39min\u001b[39;00m \u001b[39mzip\u001b[39m(l1\u001b[39m.\u001b[39mneurons, compute_error_term(l1, output)):\n\u001b[0;32m      <a href='vscode-notebook-cell:/c%3A/Users/David/Documents/Coding/neural_networks_from_scratch/class_implementation.ipynb#Y101sZmlsZQ%3D%3D?line=1'>2</a>\u001b[0m     n\u001b[39m.\u001b[39mdelta \u001b[39m=\u001b[39m d\n\u001b[0;32m      <a href='vscode-notebook-cell:/c%3A/Users/David/Documents/Coding/neural_networks_from_scratch/class_implementation.ipynb#Y101sZmlsZQ%3D%3D?line=3'>4</a>\u001b[0m \u001b[39mfor\u001b[39;00m n, d \u001b[39min\u001b[39;00m \u001b[39mzip\u001b[39m(l0\u001b[39m.\u001b[39mneurons, compute_error_term(l0, l1)):\n",
      "\u001b[1;32mc:\\Users\\David\\Documents\\Coding\\neural_networks_from_scratch\\class_implementation.ipynb Cell 16\u001b[0m line \u001b[0;36m2\n\u001b[0;32m     <a href='vscode-notebook-cell:/c%3A/Users/David/Documents/Coding/neural_networks_from_scratch/class_implementation.ipynb#Y101sZmlsZQ%3D%3D?line=19'>20</a>\u001b[0m \u001b[39mfor\u001b[39;00m i \u001b[39min\u001b[39;00m \u001b[39mrange\u001b[39m(\u001b[39mlen\u001b[39m(layer\u001b[39m.\u001b[39mneurons)):\n\u001b[0;32m     <a href='vscode-notebook-cell:/c%3A/Users/David/Documents/Coding/neural_networks_from_scratch/class_implementation.ipynb#Y101sZmlsZQ%3D%3D?line=20'>21</a>\u001b[0m     \u001b[39mfor\u001b[39;00m j \u001b[39min\u001b[39;00m \u001b[39mrange\u001b[39m(\u001b[39mlen\u001b[39m(layerp1\u001b[39m.\u001b[39mneurons)):\n\u001b[1;32m---> <a href='vscode-notebook-cell:/c%3A/Users/David/Documents/Coding/neural_networks_from_scratch/class_implementation.ipynb#Y101sZmlsZQ%3D%3D?line=21'>22</a>\u001b[0m         error[i] \u001b[39m+\u001b[39m\u001b[39m=\u001b[39m layerp1\u001b[39m.\u001b[39mneurons[j]\u001b[39m.\u001b[39mweights[i] \u001b[39m*\u001b[39m layerp1\u001b[39m.\u001b[39mneurons[j]\u001b[39m.\u001b[39mdelta \u001b[39m# compute the dot product iteratively.\u001b[39;00m\n\u001b[0;32m     <a href='vscode-notebook-cell:/c%3A/Users/David/Documents/Coding/neural_networks_from_scratch/class_implementation.ipynb#Y101sZmlsZQ%3D%3D?line=23'>24</a>\u001b[0m \u001b[39mreturn\u001b[39;00m error\n",
      "\u001b[1;31mValueError\u001b[0m: setting an array element with a sequence."
     ]
    }
   ],
   "source": [
    "for n, d in zip(l1.neurons, compute_error_term(l1, output)):\n",
    "    n.delta = d\n",
    "\n",
    "for n, d in zip(l0.neurons, compute_error_term(l0, l1)):\n",
    "    n.delta = d "
   ]
  },
  {
   "cell_type": "code",
   "execution_count": 131,
   "metadata": {},
   "outputs": [],
   "source": [
    "delta = np.zeros(len(l0.neurons))\n",
    "for i in range(len(l0.neurons)):\n",
    "    for j in range(len(l1.neurons)):\n",
    "        delta[i] += l1.neurons[j].weights[i] * l1.neurons[j].delta * l0.neurons[i].activation_function.derivative(l0.neurons[i].z)"
   ]
  },
  {
   "cell_type": "code",
   "execution_count": 128,
   "metadata": {},
   "outputs": [
    {
     "data": {
      "text/plain": [
       "array([0.00221807, 0.00143975, 0.00327121, 0.00276309, 0.00317188])"
      ]
     },
     "execution_count": 128,
     "metadata": {},
     "output_type": "execute_result"
    }
   ],
   "source": [
    "delta"
   ]
  },
  {
   "cell_type": "code",
   "execution_count": 115,
   "metadata": {},
   "outputs": [
    {
     "data": {
      "text/plain": [
       "(array([6.22929601e-04, 2.14468873e-02, 2.06496879e-01, 5.54261147e-01,\n",
       "        7.21275646e-01]),\n",
       " array([0.65594126, 0.39985916, 0.71422085, 0.13552299, 0.05088261]),\n",
       " array([0.01834267]),\n",
       " array([0.01489506]))"
      ]
     },
     "execution_count": 115,
     "metadata": {},
     "output_type": "execute_result"
    }
   ],
   "source": [
    "l1.neurons[0].weights, l1.neurons[1].weights, l1.neurons[0].delta, l1.neurons[1].delta"
   ]
  },
  {
   "cell_type": "code",
   "execution_count": 100,
   "metadata": {},
   "outputs": [
    {
     "data": {
      "text/plain": [
       "array([0.73982256, 0.36266338, 0.72783426, 0.45592178, 0.68700517])"
      ]
     },
     "execution_count": 100,
     "metadata": {},
     "output_type": "execute_result"
    }
   ],
   "source": [
    "w = np.random.uniform(0, 1, (5, 2))\n",
    "d = np.random.uniform(0, 1, (2))\n",
    "\n",
    "np.dot(w, d) * l0.z"
   ]
  },
  {
   "cell_type": "code",
   "execution_count": 89,
   "metadata": {},
   "outputs": [
    {
     "name": "stdout",
     "output_type": "stream",
     "text": [
      "[0.01834267]\n",
      "[0.01489506]\n"
     ]
    }
   ],
   "source": [
    "for n in l1.neurons:\n",
    "    print(n.delta)"
   ]
  },
  {
   "cell_type": "code",
   "execution_count": 97,
   "metadata": {},
   "outputs": [
    {
     "data": {
      "text/plain": [
       "(array([0.65594126, 0.39985916, 0.71422085, 0.13552299, 0.05088261]),)"
      ]
     },
     "execution_count": 97,
     "metadata": {},
     "output_type": "execute_result"
    }
   ],
   "source": [
    "l1.neurons[1].weights, "
   ]
  },
  {
   "cell_type": "code",
   "execution_count": 73,
   "metadata": {},
   "outputs": [
    {
     "data": {
      "text/plain": [
       "(array([0.00503387]), array([0.00947829]))"
      ]
     },
     "execution_count": 73,
     "metadata": {},
     "output_type": "execute_result"
    }
   ],
   "source": [
    "l1.neurons[0].delta, l1.neurons[1].delta"
   ]
  },
  {
   "cell_type": "code",
   "execution_count": 64,
   "metadata": {},
   "outputs": [
    {
     "data": {
      "text/plain": [
       "array([-0.00295756])"
      ]
     },
     "execution_count": 64,
     "metadata": {},
     "output_type": "execute_result"
    }
   ],
   "source": [
    "[n.backward(E_prime, a1) for n in output.neurons][0]"
   ]
  },
  {
   "cell_type": "code",
   "execution_count": 68,
   "metadata": {},
   "outputs": [
    {
     "ename": "ValueError",
     "evalue": "shapes (1,) and (5,) not aligned: 1 (dim 0) != 5 (dim 0)",
     "output_type": "error",
     "traceback": [
      "\u001b[1;31m---------------------------------------------------------------------------\u001b[0m",
      "\u001b[1;31mValueError\u001b[0m                                Traceback (most recent call last)",
      "\u001b[1;32mc:\\Users\\David\\Documents\\Coding\\neural_networks_from_scratch\\class_implementation.ipynb Cell 15\u001b[0m line \u001b[0;36m1\n\u001b[1;32m----> <a href='vscode-notebook-cell:/c%3A/Users/David/Documents/Coding/neural_networks_from_scratch/class_implementation.ipynb#X56sZmlsZQ%3D%3D?line=0'>1</a>\u001b[0m output\u001b[39m.\u001b[39;49mneurons[\u001b[39m0\u001b[39;49m]\u001b[39m.\u001b[39;49mdelta\u001b[39m.\u001b[39;49mdot(l1\u001b[39m.\u001b[39;49mneurons[\u001b[39m0\u001b[39;49m]\u001b[39m.\u001b[39;49mweights)\n",
      "\u001b[1;31mValueError\u001b[0m: shapes (1,) and (5,) not aligned: 1 (dim 0) != 5 (dim 0)"
     ]
    }
   ],
   "source": [
    "output.neurons[0].delta.dot(l1.neurons[0].weights)"
   ]
  },
  {
   "cell_type": "code",
   "execution_count": 54,
   "metadata": {},
   "outputs": [
    {
     "data": {
      "text/plain": [
       "array([0.09922206, 0.09922206])"
      ]
     },
     "execution_count": 54,
     "metadata": {},
     "output_type": "execute_result"
    }
   ],
   "source": [
    "output.neurons[0].delta"
   ]
  },
  {
   "cell_type": "code",
   "execution_count": 21,
   "metadata": {},
   "outputs": [],
   "source": [
    "def backward(self, delta: np.ndarray, prev_output: np.ndarray):\n",
    "    delta = delta * self.activation_function.derivative(self.z)\n",
    "    self.delta = np.append(self.delta, delta)\n",
    "    self.delta_weights = np.append(self.delta_weights, np.outer(delta, prev_output))\n",
    "\n",
    "    return delta"
   ]
  },
  {
   "cell_type": "code",
   "execution_count": 16,
   "metadata": {},
   "outputs": [
    {
     "data": {
      "text/plain": [
       "Neuron(input_shape=5, activation_function=Sigmoid(name='sigmoid'), weights=array([0.96578846, 0.05309858, 0.91412256, 0.60976378, 0.69162867]), bias=0.46596223615012256, delta=array([], dtype=float64), delta_weights=array([], dtype=float64), z=2.453268214371623, a=0.9208001207518959)"
      ]
     },
     "execution_count": 16,
     "metadata": {},
     "output_type": "execute_result"
    }
   ],
   "source": [
    "delta_"
   ]
  },
  {
   "cell_type": "code",
   "execution_count": null,
   "metadata": {},
   "outputs": [],
   "source": [
    "for i, n in enumerate(l1.neurons):\n",
    "    delta = 0\n",
    "    for j, np1 in enumerate(output.neurons):\n",
    "        delta += np.dot(np.expand_dims(np1.weights, axis=-1), delta_L) + n.activation_function.derivative(n.z)"
   ]
  },
  {
   "cell_type": "code",
   "execution_count": null,
   "metadata": {},
   "outputs": [],
   "source": [
    "delta"
   ]
  },
  {
   "cell_type": "code",
   "execution_count": null,
   "metadata": {},
   "outputs": [],
   "source": [
    "np.dot(l1.neurons[0].weights, np.array([0.00380112, 0.00581371]))"
   ]
  },
  {
   "cell_type": "code",
   "execution_count": null,
   "metadata": {},
   "outputs": [],
   "source": [
    "np.expand_dims(output.neurons[0].weights, axis=-1).T"
   ]
  },
  {
   "cell_type": "code",
   "execution_count": null,
   "metadata": {},
   "outputs": [],
   "source": [
    "output."
   ]
  },
  {
   "cell_type": "code",
   "execution_count": null,
   "metadata": {},
   "outputs": [],
   "source": []
  },
  {
   "cell_type": "code",
   "execution_count": null,
   "metadata": {},
   "outputs": [],
   "source": [
    "np.dot(output.neurons[0].weights.T, output.neurons[0].delta)"
   ]
  },
  {
   "cell_type": "code",
   "execution_count": null,
   "metadata": {},
   "outputs": [],
   "source": [
    "    def backward(self, delta_Lp1: np.ndarray, w_Lp1: np.ndarray, prev_output: np.ndarray):\n",
    "        delta = np.dot(w_Lp1.T, delta_Lp1) * self.activation_function.derivative(self.z)\n",
    "        self.delta = np.append(self.delta, delta)\n",
    "        self.delta_weights = np.append(self.delta_weights, np.outer(delta, prev_output))\n",
    "\n",
    "        return delta"
   ]
  },
  {
   "cell_type": "code",
   "execution_count": null,
   "metadata": {},
   "outputs": [],
   "source": [
    "l1.neurons[0]"
   ]
  },
  {
   "cell_type": "code",
   "execution_count": null,
   "metadata": {},
   "outputs": [],
   "source": [
    "output.neurons[0].delta * output.neurons[0].weights[0] * l1.neurons[0].activation_function.derivative(l1.neurons[0].z)"
   ]
  },
  {
   "cell_type": "code",
   "execution_count": null,
   "metadata": {},
   "outputs": [],
   "source": [
    "for j in range(len(output.neurons)):\n",
    "    for k in range(len(l1.neurons)):\n",
    "        l1.neurons[k].delta = l1.neurons[k].backward(output.neurons[j].delta, output.neurons[j].weights[k])"
   ]
  },
  {
   "cell_type": "code",
   "execution_count": null,
   "metadata": {},
   "outputs": [],
   "source": [
    "output.delta = delta_L\n",
    "l1.delta = np.vstack([np.dot(n.weights, delta) * n.activation_function.derivative(n.z) for n in output.neurons])\n",
    "l0.delta = np.vstack([np.dot(n.weights, delta) * n.activation_function.derivative(n.z) for n in l1.neurons])"
   ]
  },
  {
   "cell_type": "code",
   "execution_count": null,
   "metadata": {},
   "outputs": [],
   "source": [
    "l0_delta = []\n",
    "l1_delta = []\n",
    "for x, y in zip(X, Y):\n",
    "    x = np.array(x)\n",
    "    y = np.array(y)\n",
    "\n",
    "    a0 = l0.forward(x)\n",
    "    a1 = l1.forward(a0)\n",
    "    o = output.forward(a1)\n",
    "\n",
    "    E = 0.5*(y - o)**2\n",
    "    E_prime = (o - y)\n",
    "\n",
    "    delta_L = E_prime * output.neurons[0].activation_function.derivative(\n",
    "        output.neurons[0].z\n",
    "        )\n",
    "    \n",
    "    output.neurons[0].delta = delta_L\n",
    "    \n",
    "    for j in range(len(output.neurons)):\n",
    "        for k in range(len(l1.neurons)):\n",
    "            #l1.neurons[k].delta = l1.neurons[k].backward(output.neurons[j].delta, output.neurons[j].weights[k])\n",
    "            l1_delta += [l1.neurons[k].backward(output.neurons[j].delta, output.neurons[j].weights[k])]\n",
    "\n",
    "    for j in range(len(l1.neurons)):\n",
    "        for k in range(len(l0.neurons)):\n",
    "            l0.neurons[k].delta = l0.neurons[k].backward(l1.neurons[j].delta, l1.neurons[j].weights[k])\n",
    "\n",
    "print(l1_delta)"
   ]
  },
  {
   "cell_type": "code",
   "execution_count": null,
   "metadata": {},
   "outputs": [],
   "source": [
    "l1_delta"
   ]
  },
  {
   "cell_type": "code",
   "execution_count": null,
   "metadata": {},
   "outputs": [],
   "source": [
    "l1.neurons[k].backward(output.neurons[j].delta, output.neurons[j].weights[k])"
   ]
  },
  {
   "cell_type": "code",
   "execution_count": null,
   "metadata": {},
   "outputs": [],
   "source": [
    "output.neurons[0].weights.transpose() * delta_L * l1.neurons[0].activation_function.derivative(np.dot(l1.neurons[0].weights, l1.neurons[0].inputs) + l1.neurons[0].bias)"
   ]
  },
  {
   "cell_type": "code",
   "execution_count": null,
   "metadata": {},
   "outputs": [],
   "source": [
    "np.dot(output.neurons[0].weights, delta[0])"
   ]
  },
  {
   "cell_type": "code",
   "execution_count": null,
   "metadata": {},
   "outputs": [],
   "source": [
    "delta"
   ]
  },
  {
   "cell_type": "code",
   "execution_count": null,
   "metadata": {},
   "outputs": [],
   "source": []
  }
 ],
 "metadata": {
  "kernelspec": {
   "display_name": "artify310",
   "language": "python",
   "name": "python3"
  },
  "language_info": {
   "codemirror_mode": {
    "name": "ipython",
    "version": 3
   },
   "file_extension": ".py",
   "mimetype": "text/x-python",
   "name": "python",
   "nbconvert_exporter": "python",
   "pygments_lexer": "ipython3",
   "version": "3.10.8"
  }
 },
 "nbformat": 4,
 "nbformat_minor": 2
}
