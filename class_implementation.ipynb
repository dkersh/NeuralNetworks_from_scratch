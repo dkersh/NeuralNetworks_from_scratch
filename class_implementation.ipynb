{
 "cells": [
  {
   "cell_type": "code",
   "execution_count": 71,
   "metadata": {},
   "outputs": [],
   "source": [
    "from dataclasses import dataclass\n",
    "from abc import ABC, abstractmethod\n",
    "import numpy as np\n",
    "from typing import List\n",
    "\n",
    "class ActivationFunction(ABC):\n",
    "    @abstractmethod\n",
    "    def function(self):\n",
    "        pass\n",
    "\n",
    "    @abstractmethod\n",
    "    def derivative(self):\n",
    "        pass\n"
   ]
  },
  {
   "cell_type": "code",
   "execution_count": 73,
   "metadata": {},
   "outputs": [],
   "source": [
    "\n",
    "@dataclass\n",
    "class Sigmoid(ActivationFunction):\n",
    "    name: str = 'sigmoid'\n",
    "\n",
    "    def function(self, x):\n",
    "        return 1/(1 + np.exp(-x))\n",
    "    \n",
    "    def derivative(self, x):\n",
    "        return self.function(x)*(1-self.function(x))\n",
    "\n",
    "@dataclass\n",
    "class Neuron():\n",
    "    input_shape: int\n",
    "    activation: ActivationFunction\n",
    "    weights: np.ndarray[np.float64] = None\n",
    "    bias: float = np.random.rand()\n",
    "\n",
    "    def __post_init__(self):\n",
    "        self.weights = np.random.rand(self.input_shape)\n",
    "\n",
    "    def forward(self, x):\n",
    "        weighted_sum = np.dot(self.weights, x) + self.bias\n",
    "        return self.activation.function(weighted_sum)\n",
    "    \n",
    "@dataclass\n",
    "class Layer():\n",
    "    num_neurons: int\n",
    "    input_tensor: np.ndarray\n",
    "    activation: ActivationFunction\n",
    "    neurons: List[Neuron] = None\n",
    "\n",
    "    def __post_init__(self):\n",
    "        self.neurons = [Neuron(np.shape(self.input_tensor), self.activation) for _ in range(self.num_neurons)]"
   ]
  },
  {
   "cell_type": "code",
   "execution_count": 75,
   "metadata": {},
   "outputs": [],
   "source": [
    "X = [[0, 0], [0, 1], [1, 0], [1, 1]]\n",
    "Y = [0, 1, 1, 1]"
   ]
  },
  {
   "cell_type": "code",
   "execution_count": 79,
   "metadata": {},
   "outputs": [],
   "source": [
    "n1 = Neuron(2, Sigmoid())"
   ]
  },
  {
   "cell_type": "code",
   "execution_count": 93,
   "metadata": {},
   "outputs": [],
   "source": [
    "lr = 0.05\n",
    "\n",
    "for i in range(100000):\n",
    "    del_w0 = 0\n",
    "    del_b0 = 0\n",
    "    for x, y in zip(X, Y):\n",
    "        a0 = n1.forward(np.array(x))\n",
    "\n",
    "        delta = (a0 - Y[0]) * Sigmoid().derivative(np.array(X[0]))\n",
    "        del_w0 += np.dot(delta, np.transpose(x))\n",
    "        del_b0 += delta\n",
    "\n",
    "    "
   ]
  },
  {
   "cell_type": "code",
   "execution_count": 95,
   "metadata": {},
   "outputs": [
    {
     "data": {
      "text/plain": [
       "array([0.1448286, 0.1448286])"
      ]
     },
     "execution_count": 95,
     "metadata": {},
     "output_type": "execute_result"
    }
   ],
   "source": [
    "delta_d"
   ]
  },
  {
   "cell_type": "code",
   "execution_count": 88,
   "metadata": {},
   "outputs": [
    {
     "data": {
      "text/plain": [
       "array([0.25, 0.25])"
      ]
     },
     "execution_count": 88,
     "metadata": {},
     "output_type": "execute_result"
    }
   ],
   "source": [
    "Sigmoid().derivative(np.array(X[0]))"
   ]
  },
  {
   "cell_type": "code",
   "execution_count": 90,
   "metadata": {},
   "outputs": [
    {
     "name": "stdout",
     "output_type": "stream",
     "text": [
      "[0.57931439 0.57931439]\n"
     ]
    }
   ],
   "source": [
    "delta = n1.forward(X[0]) - Y[0] * Sigmoid().derivative(np.array(X[0]))"
   ]
  },
  {
   "cell_type": "code",
   "execution_count": null,
   "metadata": {},
   "outputs": [],
   "source": []
  }
 ],
 "metadata": {
  "kernelspec": {
   "display_name": "artify310",
   "language": "python",
   "name": "python3"
  },
  "language_info": {
   "codemirror_mode": {
    "name": "ipython",
    "version": 3
   },
   "file_extension": ".py",
   "mimetype": "text/x-python",
   "name": "python",
   "nbconvert_exporter": "python",
   "pygments_lexer": "ipython3",
   "version": "3.10.8"
  }
 },
 "nbformat": 4,
 "nbformat_minor": 2
}
